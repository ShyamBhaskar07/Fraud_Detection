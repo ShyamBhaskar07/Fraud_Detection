{
 "cells": [
  {
   "cell_type": "code",
   "execution_count": 2,
   "id": "b0728d25",
   "metadata": {},
   "outputs": [],
   "source": [
    "import numpy as np\n",
    "import pandas as pd\n",
    "import matplotlib.pyplot as plt\n",
    "import seaborn as sns"
   ]
  },
  {
   "cell_type": "code",
   "execution_count": 3,
   "id": "b9e8b53d",
   "metadata": {},
   "outputs": [
    {
     "data": {
      "text/html": [
       "<div>\n",
       "<style scoped>\n",
       "    .dataframe tbody tr th:only-of-type {\n",
       "        vertical-align: middle;\n",
       "    }\n",
       "\n",
       "    .dataframe tbody tr th {\n",
       "        vertical-align: top;\n",
       "    }\n",
       "\n",
       "    .dataframe thead th {\n",
       "        text-align: right;\n",
       "    }\n",
       "</style>\n",
       "<table border=\"1\" class=\"dataframe\">\n",
       "  <thead>\n",
       "    <tr style=\"text-align: right;\">\n",
       "      <th></th>\n",
       "      <th>step</th>\n",
       "      <th>type</th>\n",
       "      <th>amount</th>\n",
       "      <th>nameOrig</th>\n",
       "      <th>oldbalanceOrg</th>\n",
       "      <th>newbalanceOrig</th>\n",
       "      <th>nameDest</th>\n",
       "      <th>oldbalanceDest</th>\n",
       "      <th>newbalanceDest</th>\n",
       "      <th>isFraud</th>\n",
       "      <th>isFlaggedFraud</th>\n",
       "    </tr>\n",
       "  </thead>\n",
       "  <tbody>\n",
       "    <tr>\n",
       "      <th>0</th>\n",
       "      <td>1</td>\n",
       "      <td>PAYMENT</td>\n",
       "      <td>9839.64</td>\n",
       "      <td>C1231006815</td>\n",
       "      <td>170136.00</td>\n",
       "      <td>160296.36</td>\n",
       "      <td>M1979787155</td>\n",
       "      <td>0.0</td>\n",
       "      <td>0.00</td>\n",
       "      <td>0</td>\n",
       "      <td>0</td>\n",
       "    </tr>\n",
       "    <tr>\n",
       "      <th>1</th>\n",
       "      <td>1</td>\n",
       "      <td>PAYMENT</td>\n",
       "      <td>1864.28</td>\n",
       "      <td>C1666544295</td>\n",
       "      <td>21249.00</td>\n",
       "      <td>19384.72</td>\n",
       "      <td>M2044282225</td>\n",
       "      <td>0.0</td>\n",
       "      <td>0.00</td>\n",
       "      <td>0</td>\n",
       "      <td>0</td>\n",
       "    </tr>\n",
       "    <tr>\n",
       "      <th>2</th>\n",
       "      <td>1</td>\n",
       "      <td>TRANSFER</td>\n",
       "      <td>181.00</td>\n",
       "      <td>C1305486145</td>\n",
       "      <td>181.00</td>\n",
       "      <td>0.00</td>\n",
       "      <td>C553264065</td>\n",
       "      <td>0.0</td>\n",
       "      <td>0.00</td>\n",
       "      <td>1</td>\n",
       "      <td>0</td>\n",
       "    </tr>\n",
       "    <tr>\n",
       "      <th>3</th>\n",
       "      <td>1</td>\n",
       "      <td>CASH_OUT</td>\n",
       "      <td>181.00</td>\n",
       "      <td>C840083671</td>\n",
       "      <td>181.00</td>\n",
       "      <td>0.00</td>\n",
       "      <td>C38997010</td>\n",
       "      <td>21182.0</td>\n",
       "      <td>0.00</td>\n",
       "      <td>1</td>\n",
       "      <td>0</td>\n",
       "    </tr>\n",
       "    <tr>\n",
       "      <th>4</th>\n",
       "      <td>1</td>\n",
       "      <td>PAYMENT</td>\n",
       "      <td>11668.14</td>\n",
       "      <td>C2048537720</td>\n",
       "      <td>41554.00</td>\n",
       "      <td>29885.86</td>\n",
       "      <td>M1230701703</td>\n",
       "      <td>0.0</td>\n",
       "      <td>0.00</td>\n",
       "      <td>0</td>\n",
       "      <td>0</td>\n",
       "    </tr>\n",
       "    <tr>\n",
       "      <th>5</th>\n",
       "      <td>1</td>\n",
       "      <td>PAYMENT</td>\n",
       "      <td>7817.71</td>\n",
       "      <td>C90045638</td>\n",
       "      <td>53860.00</td>\n",
       "      <td>46042.29</td>\n",
       "      <td>M573487274</td>\n",
       "      <td>0.0</td>\n",
       "      <td>0.00</td>\n",
       "      <td>0</td>\n",
       "      <td>0</td>\n",
       "    </tr>\n",
       "    <tr>\n",
       "      <th>6</th>\n",
       "      <td>1</td>\n",
       "      <td>PAYMENT</td>\n",
       "      <td>7107.77</td>\n",
       "      <td>C154988899</td>\n",
       "      <td>183195.00</td>\n",
       "      <td>176087.23</td>\n",
       "      <td>M408069119</td>\n",
       "      <td>0.0</td>\n",
       "      <td>0.00</td>\n",
       "      <td>0</td>\n",
       "      <td>0</td>\n",
       "    </tr>\n",
       "    <tr>\n",
       "      <th>7</th>\n",
       "      <td>1</td>\n",
       "      <td>PAYMENT</td>\n",
       "      <td>7861.64</td>\n",
       "      <td>C1912850431</td>\n",
       "      <td>176087.23</td>\n",
       "      <td>168225.59</td>\n",
       "      <td>M633326333</td>\n",
       "      <td>0.0</td>\n",
       "      <td>0.00</td>\n",
       "      <td>0</td>\n",
       "      <td>0</td>\n",
       "    </tr>\n",
       "    <tr>\n",
       "      <th>8</th>\n",
       "      <td>1</td>\n",
       "      <td>PAYMENT</td>\n",
       "      <td>4024.36</td>\n",
       "      <td>C1265012928</td>\n",
       "      <td>2671.00</td>\n",
       "      <td>0.00</td>\n",
       "      <td>M1176932104</td>\n",
       "      <td>0.0</td>\n",
       "      <td>0.00</td>\n",
       "      <td>0</td>\n",
       "      <td>0</td>\n",
       "    </tr>\n",
       "    <tr>\n",
       "      <th>9</th>\n",
       "      <td>1</td>\n",
       "      <td>DEBIT</td>\n",
       "      <td>5337.77</td>\n",
       "      <td>C712410124</td>\n",
       "      <td>41720.00</td>\n",
       "      <td>36382.23</td>\n",
       "      <td>C195600860</td>\n",
       "      <td>41898.0</td>\n",
       "      <td>40348.79</td>\n",
       "      <td>0</td>\n",
       "      <td>0</td>\n",
       "    </tr>\n",
       "    <tr>\n",
       "      <th>10</th>\n",
       "      <td>1</td>\n",
       "      <td>DEBIT</td>\n",
       "      <td>9644.94</td>\n",
       "      <td>C1900366749</td>\n",
       "      <td>4465.00</td>\n",
       "      <td>0.00</td>\n",
       "      <td>C997608398</td>\n",
       "      <td>10845.0</td>\n",
       "      <td>157982.12</td>\n",
       "      <td>0</td>\n",
       "      <td>0</td>\n",
       "    </tr>\n",
       "    <tr>\n",
       "      <th>11</th>\n",
       "      <td>1</td>\n",
       "      <td>PAYMENT</td>\n",
       "      <td>3099.97</td>\n",
       "      <td>C249177573</td>\n",
       "      <td>20771.00</td>\n",
       "      <td>17671.03</td>\n",
       "      <td>M2096539129</td>\n",
       "      <td>0.0</td>\n",
       "      <td>0.00</td>\n",
       "      <td>0</td>\n",
       "      <td>0</td>\n",
       "    </tr>\n",
       "    <tr>\n",
       "      <th>12</th>\n",
       "      <td>1</td>\n",
       "      <td>PAYMENT</td>\n",
       "      <td>2560.74</td>\n",
       "      <td>C1648232591</td>\n",
       "      <td>5070.00</td>\n",
       "      <td>2509.26</td>\n",
       "      <td>M972865270</td>\n",
       "      <td>0.0</td>\n",
       "      <td>0.00</td>\n",
       "      <td>0</td>\n",
       "      <td>0</td>\n",
       "    </tr>\n",
       "    <tr>\n",
       "      <th>13</th>\n",
       "      <td>1</td>\n",
       "      <td>PAYMENT</td>\n",
       "      <td>11633.76</td>\n",
       "      <td>C1716932897</td>\n",
       "      <td>10127.00</td>\n",
       "      <td>0.00</td>\n",
       "      <td>M801569151</td>\n",
       "      <td>0.0</td>\n",
       "      <td>0.00</td>\n",
       "      <td>0</td>\n",
       "      <td>0</td>\n",
       "    </tr>\n",
       "    <tr>\n",
       "      <th>14</th>\n",
       "      <td>1</td>\n",
       "      <td>PAYMENT</td>\n",
       "      <td>4098.78</td>\n",
       "      <td>C1026483832</td>\n",
       "      <td>503264.00</td>\n",
       "      <td>499165.22</td>\n",
       "      <td>M1635378213</td>\n",
       "      <td>0.0</td>\n",
       "      <td>0.00</td>\n",
       "      <td>0</td>\n",
       "      <td>0</td>\n",
       "    </tr>\n",
       "    <tr>\n",
       "      <th>15</th>\n",
       "      <td>1</td>\n",
       "      <td>CASH_OUT</td>\n",
       "      <td>229133.94</td>\n",
       "      <td>C905080434</td>\n",
       "      <td>15325.00</td>\n",
       "      <td>0.00</td>\n",
       "      <td>C476402209</td>\n",
       "      <td>5083.0</td>\n",
       "      <td>51513.44</td>\n",
       "      <td>0</td>\n",
       "      <td>0</td>\n",
       "    </tr>\n",
       "    <tr>\n",
       "      <th>16</th>\n",
       "      <td>1</td>\n",
       "      <td>PAYMENT</td>\n",
       "      <td>1563.82</td>\n",
       "      <td>C761750706</td>\n",
       "      <td>450.00</td>\n",
       "      <td>0.00</td>\n",
       "      <td>M1731217984</td>\n",
       "      <td>0.0</td>\n",
       "      <td>0.00</td>\n",
       "      <td>0</td>\n",
       "      <td>0</td>\n",
       "    </tr>\n",
       "    <tr>\n",
       "      <th>17</th>\n",
       "      <td>1</td>\n",
       "      <td>PAYMENT</td>\n",
       "      <td>1157.86</td>\n",
       "      <td>C1237762639</td>\n",
       "      <td>21156.00</td>\n",
       "      <td>19998.14</td>\n",
       "      <td>M1877062907</td>\n",
       "      <td>0.0</td>\n",
       "      <td>0.00</td>\n",
       "      <td>0</td>\n",
       "      <td>0</td>\n",
       "    </tr>\n",
       "    <tr>\n",
       "      <th>18</th>\n",
       "      <td>1</td>\n",
       "      <td>PAYMENT</td>\n",
       "      <td>671.64</td>\n",
       "      <td>C2033524545</td>\n",
       "      <td>15123.00</td>\n",
       "      <td>14451.36</td>\n",
       "      <td>M473053293</td>\n",
       "      <td>0.0</td>\n",
       "      <td>0.00</td>\n",
       "      <td>0</td>\n",
       "      <td>0</td>\n",
       "    </tr>\n",
       "    <tr>\n",
       "      <th>19</th>\n",
       "      <td>1</td>\n",
       "      <td>TRANSFER</td>\n",
       "      <td>215310.30</td>\n",
       "      <td>C1670993182</td>\n",
       "      <td>705.00</td>\n",
       "      <td>0.00</td>\n",
       "      <td>C1100439041</td>\n",
       "      <td>22425.0</td>\n",
       "      <td>0.00</td>\n",
       "      <td>0</td>\n",
       "      <td>0</td>\n",
       "    </tr>\n",
       "  </tbody>\n",
       "</table>\n",
       "</div>"
      ],
      "text/plain": [
       "    step      type     amount     nameOrig  oldbalanceOrg  newbalanceOrig  \\\n",
       "0      1   PAYMENT    9839.64  C1231006815      170136.00       160296.36   \n",
       "1      1   PAYMENT    1864.28  C1666544295       21249.00        19384.72   \n",
       "2      1  TRANSFER     181.00  C1305486145         181.00            0.00   \n",
       "3      1  CASH_OUT     181.00   C840083671         181.00            0.00   \n",
       "4      1   PAYMENT   11668.14  C2048537720       41554.00        29885.86   \n",
       "5      1   PAYMENT    7817.71    C90045638       53860.00        46042.29   \n",
       "6      1   PAYMENT    7107.77   C154988899      183195.00       176087.23   \n",
       "7      1   PAYMENT    7861.64  C1912850431      176087.23       168225.59   \n",
       "8      1   PAYMENT    4024.36  C1265012928        2671.00            0.00   \n",
       "9      1     DEBIT    5337.77   C712410124       41720.00        36382.23   \n",
       "10     1     DEBIT    9644.94  C1900366749        4465.00            0.00   \n",
       "11     1   PAYMENT    3099.97   C249177573       20771.00        17671.03   \n",
       "12     1   PAYMENT    2560.74  C1648232591        5070.00         2509.26   \n",
       "13     1   PAYMENT   11633.76  C1716932897       10127.00            0.00   \n",
       "14     1   PAYMENT    4098.78  C1026483832      503264.00       499165.22   \n",
       "15     1  CASH_OUT  229133.94   C905080434       15325.00            0.00   \n",
       "16     1   PAYMENT    1563.82   C761750706         450.00            0.00   \n",
       "17     1   PAYMENT    1157.86  C1237762639       21156.00        19998.14   \n",
       "18     1   PAYMENT     671.64  C2033524545       15123.00        14451.36   \n",
       "19     1  TRANSFER  215310.30  C1670993182         705.00            0.00   \n",
       "\n",
       "       nameDest  oldbalanceDest  newbalanceDest  isFraud  isFlaggedFraud  \n",
       "0   M1979787155             0.0            0.00        0               0  \n",
       "1   M2044282225             0.0            0.00        0               0  \n",
       "2    C553264065             0.0            0.00        1               0  \n",
       "3     C38997010         21182.0            0.00        1               0  \n",
       "4   M1230701703             0.0            0.00        0               0  \n",
       "5    M573487274             0.0            0.00        0               0  \n",
       "6    M408069119             0.0            0.00        0               0  \n",
       "7    M633326333             0.0            0.00        0               0  \n",
       "8   M1176932104             0.0            0.00        0               0  \n",
       "9    C195600860         41898.0        40348.79        0               0  \n",
       "10   C997608398         10845.0       157982.12        0               0  \n",
       "11  M2096539129             0.0            0.00        0               0  \n",
       "12   M972865270             0.0            0.00        0               0  \n",
       "13   M801569151             0.0            0.00        0               0  \n",
       "14  M1635378213             0.0            0.00        0               0  \n",
       "15   C476402209          5083.0        51513.44        0               0  \n",
       "16  M1731217984             0.0            0.00        0               0  \n",
       "17  M1877062907             0.0            0.00        0               0  \n",
       "18   M473053293             0.0            0.00        0               0  \n",
       "19  C1100439041         22425.0            0.00        0               0  "
      ]
     },
     "execution_count": 3,
     "metadata": {},
     "output_type": "execute_result"
    }
   ],
   "source": [
    "df = pd.read_csv(\"Fraud.csv\")\n",
    "df.head(20)"
   ]
  },
  {
   "cell_type": "markdown",
   "id": "5eab428a",
   "metadata": {},
   "source": [
    "There are 5 types of transactions"
   ]
  },
  {
   "cell_type": "code",
   "execution_count": 4,
   "id": "498ea89e",
   "metadata": {},
   "outputs": [
    {
     "data": {
      "text/plain": [
       "array(['PAYMENT', 'TRANSFER', 'CASH_OUT', 'DEBIT', 'CASH_IN'],\n",
       "      dtype=object)"
      ]
     },
     "execution_count": 4,
     "metadata": {},
     "output_type": "execute_result"
    }
   ],
   "source": [
    "df['type'].unique()"
   ]
  },
  {
   "cell_type": "code",
   "execution_count": 5,
   "id": "1ba05257",
   "metadata": {},
   "outputs": [
    {
     "data": {
      "text/plain": [
       "(6362620, 11)"
      ]
     },
     "execution_count": 5,
     "metadata": {},
     "output_type": "execute_result"
    }
   ],
   "source": [
    "df.shape"
   ]
  },
  {
   "cell_type": "markdown",
   "id": "0a399ba3",
   "metadata": {},
   "source": [
    "## Summary of Data"
   ]
  },
  {
   "cell_type": "code",
   "execution_count": 6,
   "id": "f3766dec",
   "metadata": {},
   "outputs": [
    {
     "name": "stdout",
     "output_type": "stream",
     "text": [
      "<class 'pandas.core.frame.DataFrame'>\n",
      "RangeIndex: 6362620 entries, 0 to 6362619\n",
      "Data columns (total 11 columns):\n",
      " #   Column          Dtype  \n",
      "---  ------          -----  \n",
      " 0   step            int64  \n",
      " 1   type            object \n",
      " 2   amount          float64\n",
      " 3   nameOrig        object \n",
      " 4   oldbalanceOrg   float64\n",
      " 5   newbalanceOrig  float64\n",
      " 6   nameDest        object \n",
      " 7   oldbalanceDest  float64\n",
      " 8   newbalanceDest  float64\n",
      " 9   isFraud         int64  \n",
      " 10  isFlaggedFraud  int64  \n",
      "dtypes: float64(5), int64(3), object(3)\n",
      "memory usage: 534.0+ MB\n"
     ]
    }
   ],
   "source": [
    "df.info()"
   ]
  },
  {
   "cell_type": "code",
   "execution_count": 7,
   "id": "811386e9",
   "metadata": {
    "scrolled": true
   },
   "outputs": [
    {
     "data": {
      "text/html": [
       "<div>\n",
       "<style scoped>\n",
       "    .dataframe tbody tr th:only-of-type {\n",
       "        vertical-align: middle;\n",
       "    }\n",
       "\n",
       "    .dataframe tbody tr th {\n",
       "        vertical-align: top;\n",
       "    }\n",
       "\n",
       "    .dataframe thead th {\n",
       "        text-align: right;\n",
       "    }\n",
       "</style>\n",
       "<table border=\"1\" class=\"dataframe\">\n",
       "  <thead>\n",
       "    <tr style=\"text-align: right;\">\n",
       "      <th></th>\n",
       "      <th>step</th>\n",
       "      <th>amount</th>\n",
       "      <th>oldbalanceOrg</th>\n",
       "      <th>newbalanceOrig</th>\n",
       "      <th>oldbalanceDest</th>\n",
       "      <th>newbalanceDest</th>\n",
       "      <th>isFraud</th>\n",
       "      <th>isFlaggedFraud</th>\n",
       "    </tr>\n",
       "  </thead>\n",
       "  <tbody>\n",
       "    <tr>\n",
       "      <th>count</th>\n",
       "      <td>6.362620e+06</td>\n",
       "      <td>6.362620e+06</td>\n",
       "      <td>6.362620e+06</td>\n",
       "      <td>6.362620e+06</td>\n",
       "      <td>6.362620e+06</td>\n",
       "      <td>6.362620e+06</td>\n",
       "      <td>6.362620e+06</td>\n",
       "      <td>6.362620e+06</td>\n",
       "    </tr>\n",
       "    <tr>\n",
       "      <th>mean</th>\n",
       "      <td>2.433972e+02</td>\n",
       "      <td>1.798619e+05</td>\n",
       "      <td>8.338831e+05</td>\n",
       "      <td>8.551137e+05</td>\n",
       "      <td>1.100702e+06</td>\n",
       "      <td>1.224996e+06</td>\n",
       "      <td>1.290820e-03</td>\n",
       "      <td>2.514687e-06</td>\n",
       "    </tr>\n",
       "    <tr>\n",
       "      <th>std</th>\n",
       "      <td>1.423320e+02</td>\n",
       "      <td>6.038582e+05</td>\n",
       "      <td>2.888243e+06</td>\n",
       "      <td>2.924049e+06</td>\n",
       "      <td>3.399180e+06</td>\n",
       "      <td>3.674129e+06</td>\n",
       "      <td>3.590480e-02</td>\n",
       "      <td>1.585775e-03</td>\n",
       "    </tr>\n",
       "    <tr>\n",
       "      <th>min</th>\n",
       "      <td>1.000000e+00</td>\n",
       "      <td>0.000000e+00</td>\n",
       "      <td>0.000000e+00</td>\n",
       "      <td>0.000000e+00</td>\n",
       "      <td>0.000000e+00</td>\n",
       "      <td>0.000000e+00</td>\n",
       "      <td>0.000000e+00</td>\n",
       "      <td>0.000000e+00</td>\n",
       "    </tr>\n",
       "    <tr>\n",
       "      <th>25%</th>\n",
       "      <td>1.560000e+02</td>\n",
       "      <td>1.338957e+04</td>\n",
       "      <td>0.000000e+00</td>\n",
       "      <td>0.000000e+00</td>\n",
       "      <td>0.000000e+00</td>\n",
       "      <td>0.000000e+00</td>\n",
       "      <td>0.000000e+00</td>\n",
       "      <td>0.000000e+00</td>\n",
       "    </tr>\n",
       "    <tr>\n",
       "      <th>50%</th>\n",
       "      <td>2.390000e+02</td>\n",
       "      <td>7.487194e+04</td>\n",
       "      <td>1.420800e+04</td>\n",
       "      <td>0.000000e+00</td>\n",
       "      <td>1.327057e+05</td>\n",
       "      <td>2.146614e+05</td>\n",
       "      <td>0.000000e+00</td>\n",
       "      <td>0.000000e+00</td>\n",
       "    </tr>\n",
       "    <tr>\n",
       "      <th>75%</th>\n",
       "      <td>3.350000e+02</td>\n",
       "      <td>2.087215e+05</td>\n",
       "      <td>1.073152e+05</td>\n",
       "      <td>1.442584e+05</td>\n",
       "      <td>9.430367e+05</td>\n",
       "      <td>1.111909e+06</td>\n",
       "      <td>0.000000e+00</td>\n",
       "      <td>0.000000e+00</td>\n",
       "    </tr>\n",
       "    <tr>\n",
       "      <th>max</th>\n",
       "      <td>7.430000e+02</td>\n",
       "      <td>9.244552e+07</td>\n",
       "      <td>5.958504e+07</td>\n",
       "      <td>4.958504e+07</td>\n",
       "      <td>3.560159e+08</td>\n",
       "      <td>3.561793e+08</td>\n",
       "      <td>1.000000e+00</td>\n",
       "      <td>1.000000e+00</td>\n",
       "    </tr>\n",
       "  </tbody>\n",
       "</table>\n",
       "</div>"
      ],
      "text/plain": [
       "               step        amount  oldbalanceOrg  newbalanceOrig  \\\n",
       "count  6.362620e+06  6.362620e+06   6.362620e+06    6.362620e+06   \n",
       "mean   2.433972e+02  1.798619e+05   8.338831e+05    8.551137e+05   \n",
       "std    1.423320e+02  6.038582e+05   2.888243e+06    2.924049e+06   \n",
       "min    1.000000e+00  0.000000e+00   0.000000e+00    0.000000e+00   \n",
       "25%    1.560000e+02  1.338957e+04   0.000000e+00    0.000000e+00   \n",
       "50%    2.390000e+02  7.487194e+04   1.420800e+04    0.000000e+00   \n",
       "75%    3.350000e+02  2.087215e+05   1.073152e+05    1.442584e+05   \n",
       "max    7.430000e+02  9.244552e+07   5.958504e+07    4.958504e+07   \n",
       "\n",
       "       oldbalanceDest  newbalanceDest       isFraud  isFlaggedFraud  \n",
       "count    6.362620e+06    6.362620e+06  6.362620e+06    6.362620e+06  \n",
       "mean     1.100702e+06    1.224996e+06  1.290820e-03    2.514687e-06  \n",
       "std      3.399180e+06    3.674129e+06  3.590480e-02    1.585775e-03  \n",
       "min      0.000000e+00    0.000000e+00  0.000000e+00    0.000000e+00  \n",
       "25%      0.000000e+00    0.000000e+00  0.000000e+00    0.000000e+00  \n",
       "50%      1.327057e+05    2.146614e+05  0.000000e+00    0.000000e+00  \n",
       "75%      9.430367e+05    1.111909e+06  0.000000e+00    0.000000e+00  \n",
       "max      3.560159e+08    3.561793e+08  1.000000e+00    1.000000e+00  "
      ]
     },
     "execution_count": 7,
     "metadata": {},
     "output_type": "execute_result"
    }
   ],
   "source": [
    "df.describe()"
   ]
  },
  {
   "cell_type": "markdown",
   "id": "2b1911f7",
   "metadata": {},
   "source": [
    "# Data Cleaning:\n",
    "    1. Duplicates\n",
    "    2. Missing Values\n",
    "    3. Outliers\n",
    "    4. Inconsisitency"
   ]
  },
  {
   "cell_type": "markdown",
   "id": "9c918b06",
   "metadata": {},
   "source": [
    "## Duplicates\n",
    "         We can simply drop duplicates which will reduce the redundancy"
   ]
  },
  {
   "cell_type": "code",
   "execution_count": 8,
   "id": "19234122",
   "metadata": {},
   "outputs": [
    {
     "data": {
      "text/plain": [
       "0"
      ]
     },
     "execution_count": 8,
     "metadata": {},
     "output_type": "execute_result"
    }
   ],
   "source": [
    "duplicate_count = df.duplicated().sum()\n",
    "duplicate_count"
   ]
  },
  {
   "cell_type": "code",
   "execution_count": 9,
   "id": "7374e7b0",
   "metadata": {},
   "outputs": [],
   "source": [
    "df.drop_duplicates(inplace=True)"
   ]
  },
  {
   "cell_type": "markdown",
   "id": "92848448",
   "metadata": {},
   "source": [
    "## Missing Values\n",
    "    Checking for null values in Dataset"
   ]
  },
  {
   "cell_type": "code",
   "execution_count": 10,
   "id": "caf777d6",
   "metadata": {},
   "outputs": [
    {
     "data": {
      "text/plain": [
       "0"
      ]
     },
     "execution_count": 10,
     "metadata": {},
     "output_type": "execute_result"
    }
   ],
   "source": [
    "missing_count = df.isnull().sum().sum()\n",
    "missing_count"
   ]
  },
  {
   "cell_type": "markdown",
   "id": "7222cd14",
   "metadata": {},
   "source": [
    "As Missing Values are 0 in the dataset, no need of further inspection.\n",
    "If there are missing values, according to the dataset we can replace with appropriate statistic or simply remove them.\n",
    "We mostly avoid to remove missing values, because it may leads to some loss in information."
   ]
  },
  {
   "cell_type": "markdown",
   "id": "4bb96755",
   "metadata": {},
   "source": [
    "## Outliers"
   ]
  },
  {
   "cell_type": "markdown",
   "id": "5bce9d46",
   "metadata": {},
   "source": [
    "##### From the dataset,\n",
    "##### Numeric columns are 'amount','oldbalanceOrg','newbalanceOrig','oldbalanceDest','newbalanceDest'"
   ]
  },
  {
   "cell_type": "markdown",
   "id": "fa0f2bfa",
   "metadata": {},
   "source": [
    "Let's detect outliers based on each of the numeric columns."
   ]
  },
  {
   "cell_type": "markdown",
   "id": "fe1043cb",
   "metadata": {},
   "source": [
    "### Generally Most of the frauds lie in outliers, so it's not a good idea to remove Outliers blindly. Instead We can check once how many frauds are in the outliers we have detected."
   ]
  },
  {
   "cell_type": "code",
   "execution_count": 11,
   "id": "5eab0b16",
   "metadata": {},
   "outputs": [
    {
     "name": "stdout",
     "output_type": "stream",
     "text": [
      "Total Number of Frauds in Dataset is  8213\n"
     ]
    }
   ],
   "source": [
    "total_frauds = df[df['isFraud'] == 1].count()['isFraud']\n",
    "print(\"Total Number of Frauds in Dataset is \", total_frauds)"
   ]
  },
  {
   "cell_type": "code",
   "execution_count": 12,
   "id": "97b1d929",
   "metadata": {},
   "outputs": [],
   "source": [
    "attributes = ['amount', 'oldbalanceOrg', 'newbalanceOrig', 'oldbalanceDest', 'newbalanceDest']\n",
    "\n",
    "def detect_outliers(df, column):\n",
    "    Q1 = df[column].quantile(0.25)\n",
    "    Q3 = df[column].quantile(0.75)\n",
    "    IQR = Q3 - Q1\n",
    "    lower_bound = Q1 - 1.5 * IQR\n",
    "    upper_bound = Q3 + 1.5 * IQR\n",
    "    outliers = df[(df[column] < lower_bound) | (df[column] > upper_bound)]\n",
    "    return outliers\n",
    "\n",
    "outliers_dict = {}\n",
    "\n",
    "for attribute in attributes:\n",
    "    outliers = detect_outliers(df, attribute)\n",
    "    outliers_dict[attribute] = outliers\n"
   ]
  },
  {
   "cell_type": "code",
   "execution_count": 13,
   "id": "568b1044",
   "metadata": {},
   "outputs": [
    {
     "data": {
      "text/html": [
       "<div>\n",
       "<style scoped>\n",
       "    .dataframe tbody tr th:only-of-type {\n",
       "        vertical-align: middle;\n",
       "    }\n",
       "\n",
       "    .dataframe tbody tr th {\n",
       "        vertical-align: top;\n",
       "    }\n",
       "\n",
       "    .dataframe thead th {\n",
       "        text-align: right;\n",
       "    }\n",
       "</style>\n",
       "<table border=\"1\" class=\"dataframe\">\n",
       "  <thead>\n",
       "    <tr style=\"text-align: right;\">\n",
       "      <th></th>\n",
       "      <th>step</th>\n",
       "      <th>type</th>\n",
       "      <th>amount</th>\n",
       "      <th>nameOrig</th>\n",
       "      <th>oldbalanceOrg</th>\n",
       "      <th>newbalanceOrig</th>\n",
       "      <th>nameDest</th>\n",
       "      <th>oldbalanceDest</th>\n",
       "      <th>newbalanceDest</th>\n",
       "      <th>isFraud</th>\n",
       "      <th>isFlaggedFraud</th>\n",
       "    </tr>\n",
       "  </thead>\n",
       "  <tbody>\n",
       "    <tr>\n",
       "      <th>85</th>\n",
       "      <td>1</td>\n",
       "      <td>TRANSFER</td>\n",
       "      <td>1505626.01</td>\n",
       "      <td>C926859124</td>\n",
       "      <td>0.00</td>\n",
       "      <td>0.0</td>\n",
       "      <td>C665576141</td>\n",
       "      <td>29031.00</td>\n",
       "      <td>5515763.34</td>\n",
       "      <td>0</td>\n",
       "      <td>0</td>\n",
       "    </tr>\n",
       "    <tr>\n",
       "      <th>86</th>\n",
       "      <td>1</td>\n",
       "      <td>TRANSFER</td>\n",
       "      <td>554026.99</td>\n",
       "      <td>C1603696865</td>\n",
       "      <td>0.00</td>\n",
       "      <td>0.0</td>\n",
       "      <td>C766572210</td>\n",
       "      <td>579285.56</td>\n",
       "      <td>0.00</td>\n",
       "      <td>0</td>\n",
       "      <td>0</td>\n",
       "    </tr>\n",
       "    <tr>\n",
       "      <th>88</th>\n",
       "      <td>1</td>\n",
       "      <td>TRANSFER</td>\n",
       "      <td>761507.39</td>\n",
       "      <td>C412788346</td>\n",
       "      <td>0.00</td>\n",
       "      <td>0.0</td>\n",
       "      <td>C1590550415</td>\n",
       "      <td>1280036.23</td>\n",
       "      <td>19169204.93</td>\n",
       "      <td>0</td>\n",
       "      <td>0</td>\n",
       "    </tr>\n",
       "    <tr>\n",
       "      <th>89</th>\n",
       "      <td>1</td>\n",
       "      <td>TRANSFER</td>\n",
       "      <td>1429051.47</td>\n",
       "      <td>C1520267010</td>\n",
       "      <td>0.00</td>\n",
       "      <td>0.0</td>\n",
       "      <td>C1590550415</td>\n",
       "      <td>2041543.62</td>\n",
       "      <td>19169204.93</td>\n",
       "      <td>0</td>\n",
       "      <td>0</td>\n",
       "    </tr>\n",
       "    <tr>\n",
       "      <th>93</th>\n",
       "      <td>1</td>\n",
       "      <td>TRANSFER</td>\n",
       "      <td>583848.46</td>\n",
       "      <td>C1839168128</td>\n",
       "      <td>0.00</td>\n",
       "      <td>0.0</td>\n",
       "      <td>C1286084959</td>\n",
       "      <td>667778.00</td>\n",
       "      <td>2107778.11</td>\n",
       "      <td>0</td>\n",
       "      <td>0</td>\n",
       "    </tr>\n",
       "    <tr>\n",
       "      <th>...</th>\n",
       "      <td>...</td>\n",
       "      <td>...</td>\n",
       "      <td>...</td>\n",
       "      <td>...</td>\n",
       "      <td>...</td>\n",
       "      <td>...</td>\n",
       "      <td>...</td>\n",
       "      <td>...</td>\n",
       "      <td>...</td>\n",
       "      <td>...</td>\n",
       "      <td>...</td>\n",
       "    </tr>\n",
       "    <tr>\n",
       "      <th>6362613</th>\n",
       "      <td>743</td>\n",
       "      <td>CASH_OUT</td>\n",
       "      <td>1258818.82</td>\n",
       "      <td>C1436118706</td>\n",
       "      <td>1258818.82</td>\n",
       "      <td>0.0</td>\n",
       "      <td>C1240760502</td>\n",
       "      <td>503464.50</td>\n",
       "      <td>1762283.33</td>\n",
       "      <td>1</td>\n",
       "      <td>0</td>\n",
       "    </tr>\n",
       "    <tr>\n",
       "      <th>6362616</th>\n",
       "      <td>743</td>\n",
       "      <td>TRANSFER</td>\n",
       "      <td>6311409.28</td>\n",
       "      <td>C1529008245</td>\n",
       "      <td>6311409.28</td>\n",
       "      <td>0.0</td>\n",
       "      <td>C1881841831</td>\n",
       "      <td>0.00</td>\n",
       "      <td>0.00</td>\n",
       "      <td>1</td>\n",
       "      <td>0</td>\n",
       "    </tr>\n",
       "    <tr>\n",
       "      <th>6362617</th>\n",
       "      <td>743</td>\n",
       "      <td>CASH_OUT</td>\n",
       "      <td>6311409.28</td>\n",
       "      <td>C1162922333</td>\n",
       "      <td>6311409.28</td>\n",
       "      <td>0.0</td>\n",
       "      <td>C1365125890</td>\n",
       "      <td>68488.84</td>\n",
       "      <td>6379898.11</td>\n",
       "      <td>1</td>\n",
       "      <td>0</td>\n",
       "    </tr>\n",
       "    <tr>\n",
       "      <th>6362618</th>\n",
       "      <td>743</td>\n",
       "      <td>TRANSFER</td>\n",
       "      <td>850002.52</td>\n",
       "      <td>C1685995037</td>\n",
       "      <td>850002.52</td>\n",
       "      <td>0.0</td>\n",
       "      <td>C2080388513</td>\n",
       "      <td>0.00</td>\n",
       "      <td>0.00</td>\n",
       "      <td>1</td>\n",
       "      <td>0</td>\n",
       "    </tr>\n",
       "    <tr>\n",
       "      <th>6362619</th>\n",
       "      <td>743</td>\n",
       "      <td>CASH_OUT</td>\n",
       "      <td>850002.52</td>\n",
       "      <td>C1280323807</td>\n",
       "      <td>850002.52</td>\n",
       "      <td>0.0</td>\n",
       "      <td>C873221189</td>\n",
       "      <td>6510099.11</td>\n",
       "      <td>7360101.63</td>\n",
       "      <td>1</td>\n",
       "      <td>0</td>\n",
       "    </tr>\n",
       "  </tbody>\n",
       "</table>\n",
       "<p>338078 rows × 11 columns</p>\n",
       "</div>"
      ],
      "text/plain": [
       "         step      type      amount     nameOrig  oldbalanceOrg  \\\n",
       "85          1  TRANSFER  1505626.01   C926859124           0.00   \n",
       "86          1  TRANSFER   554026.99  C1603696865           0.00   \n",
       "88          1  TRANSFER   761507.39   C412788346           0.00   \n",
       "89          1  TRANSFER  1429051.47  C1520267010           0.00   \n",
       "93          1  TRANSFER   583848.46  C1839168128           0.00   \n",
       "...       ...       ...         ...          ...            ...   \n",
       "6362613   743  CASH_OUT  1258818.82  C1436118706     1258818.82   \n",
       "6362616   743  TRANSFER  6311409.28  C1529008245     6311409.28   \n",
       "6362617   743  CASH_OUT  6311409.28  C1162922333     6311409.28   \n",
       "6362618   743  TRANSFER   850002.52  C1685995037      850002.52   \n",
       "6362619   743  CASH_OUT   850002.52  C1280323807      850002.52   \n",
       "\n",
       "         newbalanceOrig     nameDest  oldbalanceDest  newbalanceDest  isFraud  \\\n",
       "85                  0.0   C665576141        29031.00      5515763.34        0   \n",
       "86                  0.0   C766572210       579285.56            0.00        0   \n",
       "88                  0.0  C1590550415      1280036.23     19169204.93        0   \n",
       "89                  0.0  C1590550415      2041543.62     19169204.93        0   \n",
       "93                  0.0  C1286084959       667778.00      2107778.11        0   \n",
       "...                 ...          ...             ...             ...      ...   \n",
       "6362613             0.0  C1240760502       503464.50      1762283.33        1   \n",
       "6362616             0.0  C1881841831            0.00            0.00        1   \n",
       "6362617             0.0  C1365125890        68488.84      6379898.11        1   \n",
       "6362618             0.0  C2080388513            0.00            0.00        1   \n",
       "6362619             0.0   C873221189      6510099.11      7360101.63        1   \n",
       "\n",
       "         isFlaggedFraud  \n",
       "85                    0  \n",
       "86                    0  \n",
       "88                    0  \n",
       "89                    0  \n",
       "93                    0  \n",
       "...                 ...  \n",
       "6362613               0  \n",
       "6362616               0  \n",
       "6362617               0  \n",
       "6362618               0  \n",
       "6362619               0  \n",
       "\n",
       "[338078 rows x 11 columns]"
      ]
     },
     "execution_count": 13,
     "metadata": {},
     "output_type": "execute_result"
    }
   ],
   "source": [
    "outliers_dict['amount']"
   ]
  },
  {
   "cell_type": "code",
   "execution_count": 14,
   "id": "9df99fa9",
   "metadata": {},
   "outputs": [
    {
     "name": "stdout",
     "output_type": "stream",
     "text": [
      "Percentage of frauds detected in Outliers detected by amount attribute is 46.93\n"
     ]
    }
   ],
   "source": [
    "frauds_by_amount = outliers_dict['amount'][outliers_dict['amount']['isFraud'] == 1].count()['isFraud']\n",
    "print(f\"Percentage of frauds detected in Outliers detected by amount attribute is {frauds_by_amount/total_frauds*100:.2f}\")"
   ]
  },
  {
   "cell_type": "code",
   "execution_count": 15,
   "id": "f021d5f2",
   "metadata": {},
   "outputs": [
    {
     "data": {
      "text/html": [
       "<div>\n",
       "<style scoped>\n",
       "    .dataframe tbody tr th:only-of-type {\n",
       "        vertical-align: middle;\n",
       "    }\n",
       "\n",
       "    .dataframe tbody tr th {\n",
       "        vertical-align: top;\n",
       "    }\n",
       "\n",
       "    .dataframe thead th {\n",
       "        text-align: right;\n",
       "    }\n",
       "</style>\n",
       "<table border=\"1\" class=\"dataframe\">\n",
       "  <thead>\n",
       "    <tr style=\"text-align: right;\">\n",
       "      <th></th>\n",
       "      <th>step</th>\n",
       "      <th>type</th>\n",
       "      <th>amount</th>\n",
       "      <th>nameOrig</th>\n",
       "      <th>oldbalanceOrg</th>\n",
       "      <th>newbalanceOrig</th>\n",
       "      <th>nameDest</th>\n",
       "      <th>oldbalanceDest</th>\n",
       "      <th>newbalanceDest</th>\n",
       "      <th>isFraud</th>\n",
       "      <th>isFlaggedFraud</th>\n",
       "    </tr>\n",
       "  </thead>\n",
       "  <tbody>\n",
       "    <tr>\n",
       "      <th>14</th>\n",
       "      <td>1</td>\n",
       "      <td>PAYMENT</td>\n",
       "      <td>4098.78</td>\n",
       "      <td>C1026483832</td>\n",
       "      <td>503264.00</td>\n",
       "      <td>499165.22</td>\n",
       "      <td>M1635378213</td>\n",
       "      <td>0.00</td>\n",
       "      <td>0.00</td>\n",
       "      <td>0</td>\n",
       "      <td>0</td>\n",
       "    </tr>\n",
       "    <tr>\n",
       "      <th>37</th>\n",
       "      <td>1</td>\n",
       "      <td>PAYMENT</td>\n",
       "      <td>2791.42</td>\n",
       "      <td>C923341586</td>\n",
       "      <td>300481.00</td>\n",
       "      <td>297689.58</td>\n",
       "      <td>M107994825</td>\n",
       "      <td>0.00</td>\n",
       "      <td>0.00</td>\n",
       "      <td>0</td>\n",
       "      <td>0</td>\n",
       "    </tr>\n",
       "    <tr>\n",
       "      <th>38</th>\n",
       "      <td>1</td>\n",
       "      <td>PAYMENT</td>\n",
       "      <td>7413.54</td>\n",
       "      <td>C1470868839</td>\n",
       "      <td>297689.58</td>\n",
       "      <td>290276.03</td>\n",
       "      <td>M1426725223</td>\n",
       "      <td>0.00</td>\n",
       "      <td>0.00</td>\n",
       "      <td>0</td>\n",
       "      <td>0</td>\n",
       "    </tr>\n",
       "    <tr>\n",
       "      <th>62</th>\n",
       "      <td>1</td>\n",
       "      <td>DEBIT</td>\n",
       "      <td>8727.74</td>\n",
       "      <td>C166694583</td>\n",
       "      <td>882770.00</td>\n",
       "      <td>874042.26</td>\n",
       "      <td>C1129670968</td>\n",
       "      <td>12636.00</td>\n",
       "      <td>0.00</td>\n",
       "      <td>0</td>\n",
       "      <td>0</td>\n",
       "    </tr>\n",
       "    <tr>\n",
       "      <th>63</th>\n",
       "      <td>1</td>\n",
       "      <td>PAYMENT</td>\n",
       "      <td>2599.46</td>\n",
       "      <td>C885910946</td>\n",
       "      <td>874042.26</td>\n",
       "      <td>871442.79</td>\n",
       "      <td>M1860591867</td>\n",
       "      <td>0.00</td>\n",
       "      <td>0.00</td>\n",
       "      <td>0</td>\n",
       "      <td>0</td>\n",
       "    </tr>\n",
       "    <tr>\n",
       "      <th>...</th>\n",
       "      <td>...</td>\n",
       "      <td>...</td>\n",
       "      <td>...</td>\n",
       "      <td>...</td>\n",
       "      <td>...</td>\n",
       "      <td>...</td>\n",
       "      <td>...</td>\n",
       "      <td>...</td>\n",
       "      <td>...</td>\n",
       "      <td>...</td>\n",
       "      <td>...</td>\n",
       "    </tr>\n",
       "    <tr>\n",
       "      <th>6362615</th>\n",
       "      <td>743</td>\n",
       "      <td>CASH_OUT</td>\n",
       "      <td>339682.13</td>\n",
       "      <td>C786484425</td>\n",
       "      <td>339682.13</td>\n",
       "      <td>0.00</td>\n",
       "      <td>C776919290</td>\n",
       "      <td>0.00</td>\n",
       "      <td>339682.13</td>\n",
       "      <td>1</td>\n",
       "      <td>0</td>\n",
       "    </tr>\n",
       "    <tr>\n",
       "      <th>6362616</th>\n",
       "      <td>743</td>\n",
       "      <td>TRANSFER</td>\n",
       "      <td>6311409.28</td>\n",
       "      <td>C1529008245</td>\n",
       "      <td>6311409.28</td>\n",
       "      <td>0.00</td>\n",
       "      <td>C1881841831</td>\n",
       "      <td>0.00</td>\n",
       "      <td>0.00</td>\n",
       "      <td>1</td>\n",
       "      <td>0</td>\n",
       "    </tr>\n",
       "    <tr>\n",
       "      <th>6362617</th>\n",
       "      <td>743</td>\n",
       "      <td>CASH_OUT</td>\n",
       "      <td>6311409.28</td>\n",
       "      <td>C1162922333</td>\n",
       "      <td>6311409.28</td>\n",
       "      <td>0.00</td>\n",
       "      <td>C1365125890</td>\n",
       "      <td>68488.84</td>\n",
       "      <td>6379898.11</td>\n",
       "      <td>1</td>\n",
       "      <td>0</td>\n",
       "    </tr>\n",
       "    <tr>\n",
       "      <th>6362618</th>\n",
       "      <td>743</td>\n",
       "      <td>TRANSFER</td>\n",
       "      <td>850002.52</td>\n",
       "      <td>C1685995037</td>\n",
       "      <td>850002.52</td>\n",
       "      <td>0.00</td>\n",
       "      <td>C2080388513</td>\n",
       "      <td>0.00</td>\n",
       "      <td>0.00</td>\n",
       "      <td>1</td>\n",
       "      <td>0</td>\n",
       "    </tr>\n",
       "    <tr>\n",
       "      <th>6362619</th>\n",
       "      <td>743</td>\n",
       "      <td>CASH_OUT</td>\n",
       "      <td>850002.52</td>\n",
       "      <td>C1280323807</td>\n",
       "      <td>850002.52</td>\n",
       "      <td>0.00</td>\n",
       "      <td>C873221189</td>\n",
       "      <td>6510099.11</td>\n",
       "      <td>7360101.63</td>\n",
       "      <td>1</td>\n",
       "      <td>0</td>\n",
       "    </tr>\n",
       "  </tbody>\n",
       "</table>\n",
       "<p>1112507 rows × 11 columns</p>\n",
       "</div>"
      ],
      "text/plain": [
       "         step      type      amount     nameOrig  oldbalanceOrg  \\\n",
       "14          1   PAYMENT     4098.78  C1026483832      503264.00   \n",
       "37          1   PAYMENT     2791.42   C923341586      300481.00   \n",
       "38          1   PAYMENT     7413.54  C1470868839      297689.58   \n",
       "62          1     DEBIT     8727.74   C166694583      882770.00   \n",
       "63          1   PAYMENT     2599.46   C885910946      874042.26   \n",
       "...       ...       ...         ...          ...            ...   \n",
       "6362615   743  CASH_OUT   339682.13   C786484425      339682.13   \n",
       "6362616   743  TRANSFER  6311409.28  C1529008245     6311409.28   \n",
       "6362617   743  CASH_OUT  6311409.28  C1162922333     6311409.28   \n",
       "6362618   743  TRANSFER   850002.52  C1685995037      850002.52   \n",
       "6362619   743  CASH_OUT   850002.52  C1280323807      850002.52   \n",
       "\n",
       "         newbalanceOrig     nameDest  oldbalanceDest  newbalanceDest  isFraud  \\\n",
       "14            499165.22  M1635378213            0.00            0.00        0   \n",
       "37            297689.58   M107994825            0.00            0.00        0   \n",
       "38            290276.03  M1426725223            0.00            0.00        0   \n",
       "62            874042.26  C1129670968        12636.00            0.00        0   \n",
       "63            871442.79  M1860591867            0.00            0.00        0   \n",
       "...                 ...          ...             ...             ...      ...   \n",
       "6362615            0.00   C776919290            0.00       339682.13        1   \n",
       "6362616            0.00  C1881841831            0.00            0.00        1   \n",
       "6362617            0.00  C1365125890        68488.84      6379898.11        1   \n",
       "6362618            0.00  C2080388513            0.00            0.00        1   \n",
       "6362619            0.00   C873221189      6510099.11      7360101.63        1   \n",
       "\n",
       "         isFlaggedFraud  \n",
       "14                    0  \n",
       "37                    0  \n",
       "38                    0  \n",
       "62                    0  \n",
       "63                    0  \n",
       "...                 ...  \n",
       "6362615               0  \n",
       "6362616               0  \n",
       "6362617               0  \n",
       "6362618               0  \n",
       "6362619               0  \n",
       "\n",
       "[1112507 rows x 11 columns]"
      ]
     },
     "execution_count": 15,
     "metadata": {},
     "output_type": "execute_result"
    }
   ],
   "source": [
    "outliers_dict['oldbalanceOrg']"
   ]
  },
  {
   "cell_type": "code",
   "execution_count": 16,
   "id": "4dd621f1",
   "metadata": {},
   "outputs": [
    {
     "name": "stdout",
     "output_type": "stream",
     "text": [
      "Percentage of frauds detected in Outliers detected by oldbalanceOrg attribute is 60.47\n"
     ]
    }
   ],
   "source": [
    "frauds_by_oldOrig = outliers_dict['oldbalanceOrg'][outliers_dict['oldbalanceOrg']['isFraud'] == 1].count()['isFraud']\n",
    "print(f\"Percentage of frauds detected in Outliers detected by oldbalanceOrg attribute is {frauds_by_oldOrig/total_frauds*100:.2f}\")"
   ]
  },
  {
   "cell_type": "code",
   "execution_count": 17,
   "id": "7e0897d5",
   "metadata": {},
   "outputs": [
    {
     "data": {
      "text/html": [
       "<div>\n",
       "<style scoped>\n",
       "    .dataframe tbody tr th:only-of-type {\n",
       "        vertical-align: middle;\n",
       "    }\n",
       "\n",
       "    .dataframe tbody tr th {\n",
       "        vertical-align: top;\n",
       "    }\n",
       "\n",
       "    .dataframe thead th {\n",
       "        text-align: right;\n",
       "    }\n",
       "</style>\n",
       "<table border=\"1\" class=\"dataframe\">\n",
       "  <thead>\n",
       "    <tr style=\"text-align: right;\">\n",
       "      <th></th>\n",
       "      <th>step</th>\n",
       "      <th>type</th>\n",
       "      <th>amount</th>\n",
       "      <th>nameOrig</th>\n",
       "      <th>oldbalanceOrg</th>\n",
       "      <th>newbalanceOrig</th>\n",
       "      <th>nameDest</th>\n",
       "      <th>oldbalanceDest</th>\n",
       "      <th>newbalanceDest</th>\n",
       "      <th>isFraud</th>\n",
       "      <th>isFlaggedFraud</th>\n",
       "    </tr>\n",
       "  </thead>\n",
       "  <tbody>\n",
       "    <tr>\n",
       "      <th>14</th>\n",
       "      <td>1</td>\n",
       "      <td>PAYMENT</td>\n",
       "      <td>4098.78</td>\n",
       "      <td>C1026483832</td>\n",
       "      <td>503264.00</td>\n",
       "      <td>499165.22</td>\n",
       "      <td>M1635378213</td>\n",
       "      <td>0.0</td>\n",
       "      <td>0.0</td>\n",
       "      <td>0</td>\n",
       "      <td>0</td>\n",
       "    </tr>\n",
       "    <tr>\n",
       "      <th>62</th>\n",
       "      <td>1</td>\n",
       "      <td>DEBIT</td>\n",
       "      <td>8727.74</td>\n",
       "      <td>C166694583</td>\n",
       "      <td>882770.00</td>\n",
       "      <td>874042.26</td>\n",
       "      <td>C1129670968</td>\n",
       "      <td>12636.0</td>\n",
       "      <td>0.0</td>\n",
       "      <td>0</td>\n",
       "      <td>0</td>\n",
       "    </tr>\n",
       "    <tr>\n",
       "      <th>63</th>\n",
       "      <td>1</td>\n",
       "      <td>PAYMENT</td>\n",
       "      <td>2599.46</td>\n",
       "      <td>C885910946</td>\n",
       "      <td>874042.26</td>\n",
       "      <td>871442.79</td>\n",
       "      <td>M1860591867</td>\n",
       "      <td>0.0</td>\n",
       "      <td>0.0</td>\n",
       "      <td>0</td>\n",
       "      <td>0</td>\n",
       "    </tr>\n",
       "    <tr>\n",
       "      <th>241</th>\n",
       "      <td>1</td>\n",
       "      <td>PAYMENT</td>\n",
       "      <td>4635.18</td>\n",
       "      <td>C1110698130</td>\n",
       "      <td>6313782.05</td>\n",
       "      <td>6309146.87</td>\n",
       "      <td>M125644421</td>\n",
       "      <td>0.0</td>\n",
       "      <td>0.0</td>\n",
       "      <td>0</td>\n",
       "      <td>0</td>\n",
       "    </tr>\n",
       "    <tr>\n",
       "      <th>242</th>\n",
       "      <td>1</td>\n",
       "      <td>PAYMENT</td>\n",
       "      <td>1267.97</td>\n",
       "      <td>C1053632127</td>\n",
       "      <td>6309146.87</td>\n",
       "      <td>6307878.90</td>\n",
       "      <td>M1493158871</td>\n",
       "      <td>0.0</td>\n",
       "      <td>0.0</td>\n",
       "      <td>0</td>\n",
       "      <td>0</td>\n",
       "    </tr>\n",
       "    <tr>\n",
       "      <th>...</th>\n",
       "      <td>...</td>\n",
       "      <td>...</td>\n",
       "      <td>...</td>\n",
       "      <td>...</td>\n",
       "      <td>...</td>\n",
       "      <td>...</td>\n",
       "      <td>...</td>\n",
       "      <td>...</td>\n",
       "      <td>...</td>\n",
       "      <td>...</td>\n",
       "      <td>...</td>\n",
       "    </tr>\n",
       "    <tr>\n",
       "      <th>6362576</th>\n",
       "      <td>741</td>\n",
       "      <td>TRANSFER</td>\n",
       "      <td>10000000.00</td>\n",
       "      <td>C780743034</td>\n",
       "      <td>45674547.89</td>\n",
       "      <td>35674547.89</td>\n",
       "      <td>C491519946</td>\n",
       "      <td>0.0</td>\n",
       "      <td>0.0</td>\n",
       "      <td>1</td>\n",
       "      <td>0</td>\n",
       "    </tr>\n",
       "    <tr>\n",
       "      <th>6362578</th>\n",
       "      <td>741</td>\n",
       "      <td>TRANSFER</td>\n",
       "      <td>10000000.00</td>\n",
       "      <td>C1111699947</td>\n",
       "      <td>35674547.89</td>\n",
       "      <td>25674547.89</td>\n",
       "      <td>C949015157</td>\n",
       "      <td>0.0</td>\n",
       "      <td>0.0</td>\n",
       "      <td>1</td>\n",
       "      <td>0</td>\n",
       "    </tr>\n",
       "    <tr>\n",
       "      <th>6362580</th>\n",
       "      <td>741</td>\n",
       "      <td>TRANSFER</td>\n",
       "      <td>10000000.00</td>\n",
       "      <td>C88849251</td>\n",
       "      <td>25674547.89</td>\n",
       "      <td>15674547.89</td>\n",
       "      <td>C1939028448</td>\n",
       "      <td>0.0</td>\n",
       "      <td>0.0</td>\n",
       "      <td>1</td>\n",
       "      <td>0</td>\n",
       "    </tr>\n",
       "    <tr>\n",
       "      <th>6362582</th>\n",
       "      <td>741</td>\n",
       "      <td>TRANSFER</td>\n",
       "      <td>10000000.00</td>\n",
       "      <td>C1945606464</td>\n",
       "      <td>15674547.89</td>\n",
       "      <td>5674547.89</td>\n",
       "      <td>C625944676</td>\n",
       "      <td>0.0</td>\n",
       "      <td>0.0</td>\n",
       "      <td>1</td>\n",
       "      <td>0</td>\n",
       "    </tr>\n",
       "    <tr>\n",
       "      <th>6362584</th>\n",
       "      <td>741</td>\n",
       "      <td>TRANSFER</td>\n",
       "      <td>5674547.89</td>\n",
       "      <td>C992223106</td>\n",
       "      <td>5674547.89</td>\n",
       "      <td>5674547.89</td>\n",
       "      <td>C1366804249</td>\n",
       "      <td>0.0</td>\n",
       "      <td>0.0</td>\n",
       "      <td>1</td>\n",
       "      <td>1</td>\n",
       "    </tr>\n",
       "  </tbody>\n",
       "</table>\n",
       "<p>1053391 rows × 11 columns</p>\n",
       "</div>"
      ],
      "text/plain": [
       "         step      type       amount     nameOrig  oldbalanceOrg  \\\n",
       "14          1   PAYMENT      4098.78  C1026483832      503264.00   \n",
       "62          1     DEBIT      8727.74   C166694583      882770.00   \n",
       "63          1   PAYMENT      2599.46   C885910946      874042.26   \n",
       "241         1   PAYMENT      4635.18  C1110698130     6313782.05   \n",
       "242         1   PAYMENT      1267.97  C1053632127     6309146.87   \n",
       "...       ...       ...          ...          ...            ...   \n",
       "6362576   741  TRANSFER  10000000.00   C780743034    45674547.89   \n",
       "6362578   741  TRANSFER  10000000.00  C1111699947    35674547.89   \n",
       "6362580   741  TRANSFER  10000000.00    C88849251    25674547.89   \n",
       "6362582   741  TRANSFER  10000000.00  C1945606464    15674547.89   \n",
       "6362584   741  TRANSFER   5674547.89   C992223106     5674547.89   \n",
       "\n",
       "         newbalanceOrig     nameDest  oldbalanceDest  newbalanceDest  isFraud  \\\n",
       "14            499165.22  M1635378213             0.0             0.0        0   \n",
       "62            874042.26  C1129670968         12636.0             0.0        0   \n",
       "63            871442.79  M1860591867             0.0             0.0        0   \n",
       "241          6309146.87   M125644421             0.0             0.0        0   \n",
       "242          6307878.90  M1493158871             0.0             0.0        0   \n",
       "...                 ...          ...             ...             ...      ...   \n",
       "6362576     35674547.89   C491519946             0.0             0.0        1   \n",
       "6362578     25674547.89   C949015157             0.0             0.0        1   \n",
       "6362580     15674547.89  C1939028448             0.0             0.0        1   \n",
       "6362582      5674547.89   C625944676             0.0             0.0        1   \n",
       "6362584      5674547.89  C1366804249             0.0             0.0        1   \n",
       "\n",
       "         isFlaggedFraud  \n",
       "14                    0  \n",
       "62                    0  \n",
       "63                    0  \n",
       "241                   0  \n",
       "242                   0  \n",
       "...                 ...  \n",
       "6362576               0  \n",
       "6362578               0  \n",
       "6362580               0  \n",
       "6362582               0  \n",
       "6362584               1  \n",
       "\n",
       "[1053391 rows x 11 columns]"
      ]
     },
     "execution_count": 17,
     "metadata": {},
     "output_type": "execute_result"
    }
   ],
   "source": [
    "outliers_dict['newbalanceOrig']"
   ]
  },
  {
   "cell_type": "code",
   "execution_count": 18,
   "id": "cf9d27d3",
   "metadata": {},
   "outputs": [
    {
     "name": "stdout",
     "output_type": "stream",
     "text": [
      "Percentage of frauds detected in Outliers detected by newbalanceOrig attribute is 1.89\n"
     ]
    }
   ],
   "source": [
    "frauds_by_newOrig = outliers_dict['newbalanceOrig'][outliers_dict['newbalanceOrig']['isFraud'] == 1].count()['isFraud']\n",
    "print(f\"Percentage of frauds detected in Outliers detected by newbalanceOrig attribute is {frauds_by_newOrig/total_frauds*100:.2f}\")"
   ]
  },
  {
   "cell_type": "code",
   "execution_count": 19,
   "id": "5a8c6c10",
   "metadata": {},
   "outputs": [
    {
     "data": {
      "text/html": [
       "<div>\n",
       "<style scoped>\n",
       "    .dataframe tbody tr th:only-of-type {\n",
       "        vertical-align: middle;\n",
       "    }\n",
       "\n",
       "    .dataframe tbody tr th {\n",
       "        vertical-align: top;\n",
       "    }\n",
       "\n",
       "    .dataframe thead th {\n",
       "        text-align: right;\n",
       "    }\n",
       "</style>\n",
       "<table border=\"1\" class=\"dataframe\">\n",
       "  <thead>\n",
       "    <tr style=\"text-align: right;\">\n",
       "      <th></th>\n",
       "      <th>step</th>\n",
       "      <th>type</th>\n",
       "      <th>amount</th>\n",
       "      <th>nameOrig</th>\n",
       "      <th>oldbalanceOrg</th>\n",
       "      <th>newbalanceOrig</th>\n",
       "      <th>nameDest</th>\n",
       "      <th>oldbalanceDest</th>\n",
       "      <th>newbalanceDest</th>\n",
       "      <th>isFraud</th>\n",
       "      <th>isFlaggedFraud</th>\n",
       "    </tr>\n",
       "  </thead>\n",
       "  <tbody>\n",
       "    <tr>\n",
       "      <th>94</th>\n",
       "      <td>1</td>\n",
       "      <td>TRANSFER</td>\n",
       "      <td>1724887.05</td>\n",
       "      <td>C1495608502</td>\n",
       "      <td>0.00</td>\n",
       "      <td>0.0</td>\n",
       "      <td>C1590550415</td>\n",
       "      <td>3470595.10</td>\n",
       "      <td>19169204.93</td>\n",
       "      <td>0</td>\n",
       "      <td>0</td>\n",
       "    </tr>\n",
       "    <tr>\n",
       "      <th>96</th>\n",
       "      <td>1</td>\n",
       "      <td>TRANSFER</td>\n",
       "      <td>581294.26</td>\n",
       "      <td>C843299092</td>\n",
       "      <td>0.00</td>\n",
       "      <td>0.0</td>\n",
       "      <td>C1590550415</td>\n",
       "      <td>5195482.15</td>\n",
       "      <td>19169204.93</td>\n",
       "      <td>0</td>\n",
       "      <td>0</td>\n",
       "    </tr>\n",
       "    <tr>\n",
       "      <th>113</th>\n",
       "      <td>1</td>\n",
       "      <td>CASH_OUT</td>\n",
       "      <td>85423.63</td>\n",
       "      <td>C460741164</td>\n",
       "      <td>0.00</td>\n",
       "      <td>0.0</td>\n",
       "      <td>C1590550415</td>\n",
       "      <td>5776776.41</td>\n",
       "      <td>19169204.93</td>\n",
       "      <td>0</td>\n",
       "      <td>0</td>\n",
       "    </tr>\n",
       "    <tr>\n",
       "      <th>156</th>\n",
       "      <td>1</td>\n",
       "      <td>CASH_OUT</td>\n",
       "      <td>186447.51</td>\n",
       "      <td>C976827477</td>\n",
       "      <td>0.00</td>\n",
       "      <td>0.0</td>\n",
       "      <td>C1590550415</td>\n",
       "      <td>5862200.03</td>\n",
       "      <td>19169204.93</td>\n",
       "      <td>0</td>\n",
       "      <td>0</td>\n",
       "    </tr>\n",
       "    <tr>\n",
       "      <th>171</th>\n",
       "      <td>1</td>\n",
       "      <td>CASH_OUT</td>\n",
       "      <td>44443.08</td>\n",
       "      <td>C269892014</td>\n",
       "      <td>0.00</td>\n",
       "      <td>0.0</td>\n",
       "      <td>C1590550415</td>\n",
       "      <td>6048647.54</td>\n",
       "      <td>19169204.93</td>\n",
       "      <td>0</td>\n",
       "      <td>0</td>\n",
       "    </tr>\n",
       "    <tr>\n",
       "      <th>...</th>\n",
       "      <td>...</td>\n",
       "      <td>...</td>\n",
       "      <td>...</td>\n",
       "      <td>...</td>\n",
       "      <td>...</td>\n",
       "      <td>...</td>\n",
       "      <td>...</td>\n",
       "      <td>...</td>\n",
       "      <td>...</td>\n",
       "      <td>...</td>\n",
       "      <td>...</td>\n",
       "    </tr>\n",
       "    <tr>\n",
       "      <th>6362553</th>\n",
       "      <td>738</td>\n",
       "      <td>CASH_OUT</td>\n",
       "      <td>297846.16</td>\n",
       "      <td>C384242072</td>\n",
       "      <td>297846.16</td>\n",
       "      <td>0.0</td>\n",
       "      <td>C175252004</td>\n",
       "      <td>11436080.11</td>\n",
       "      <td>11733926.27</td>\n",
       "      <td>1</td>\n",
       "      <td>0</td>\n",
       "    </tr>\n",
       "    <tr>\n",
       "      <th>6362555</th>\n",
       "      <td>738</td>\n",
       "      <td>CASH_OUT</td>\n",
       "      <td>106584.32</td>\n",
       "      <td>C2085819511</td>\n",
       "      <td>106584.32</td>\n",
       "      <td>0.0</td>\n",
       "      <td>C2000713595</td>\n",
       "      <td>5524872.71</td>\n",
       "      <td>5631457.03</td>\n",
       "      <td>1</td>\n",
       "      <td>0</td>\n",
       "    </tr>\n",
       "    <tr>\n",
       "      <th>6362569</th>\n",
       "      <td>739</td>\n",
       "      <td>CASH_OUT</td>\n",
       "      <td>194521.28</td>\n",
       "      <td>C1558118886</td>\n",
       "      <td>194521.28</td>\n",
       "      <td>0.0</td>\n",
       "      <td>C987019949</td>\n",
       "      <td>7203373.74</td>\n",
       "      <td>7397895.02</td>\n",
       "      <td>1</td>\n",
       "      <td>0</td>\n",
       "    </tr>\n",
       "    <tr>\n",
       "      <th>6362575</th>\n",
       "      <td>740</td>\n",
       "      <td>CASH_OUT</td>\n",
       "      <td>1755647.81</td>\n",
       "      <td>C1724432558</td>\n",
       "      <td>1755647.81</td>\n",
       "      <td>0.0</td>\n",
       "      <td>C22170584</td>\n",
       "      <td>2930014.23</td>\n",
       "      <td>4685662.04</td>\n",
       "      <td>1</td>\n",
       "      <td>0</td>\n",
       "    </tr>\n",
       "    <tr>\n",
       "      <th>6362619</th>\n",
       "      <td>743</td>\n",
       "      <td>CASH_OUT</td>\n",
       "      <td>850002.52</td>\n",
       "      <td>C1280323807</td>\n",
       "      <td>850002.52</td>\n",
       "      <td>0.0</td>\n",
       "      <td>C873221189</td>\n",
       "      <td>6510099.11</td>\n",
       "      <td>7360101.63</td>\n",
       "      <td>1</td>\n",
       "      <td>0</td>\n",
       "    </tr>\n",
       "  </tbody>\n",
       "</table>\n",
       "<p>786135 rows × 11 columns</p>\n",
       "</div>"
      ],
      "text/plain": [
       "         step      type      amount     nameOrig  oldbalanceOrg  \\\n",
       "94          1  TRANSFER  1724887.05  C1495608502           0.00   \n",
       "96          1  TRANSFER   581294.26   C843299092           0.00   \n",
       "113         1  CASH_OUT    85423.63   C460741164           0.00   \n",
       "156         1  CASH_OUT   186447.51   C976827477           0.00   \n",
       "171         1  CASH_OUT    44443.08   C269892014           0.00   \n",
       "...       ...       ...         ...          ...            ...   \n",
       "6362553   738  CASH_OUT   297846.16   C384242072      297846.16   \n",
       "6362555   738  CASH_OUT   106584.32  C2085819511      106584.32   \n",
       "6362569   739  CASH_OUT   194521.28  C1558118886      194521.28   \n",
       "6362575   740  CASH_OUT  1755647.81  C1724432558     1755647.81   \n",
       "6362619   743  CASH_OUT   850002.52  C1280323807      850002.52   \n",
       "\n",
       "         newbalanceOrig     nameDest  oldbalanceDest  newbalanceDest  isFraud  \\\n",
       "94                  0.0  C1590550415      3470595.10     19169204.93        0   \n",
       "96                  0.0  C1590550415      5195482.15     19169204.93        0   \n",
       "113                 0.0  C1590550415      5776776.41     19169204.93        0   \n",
       "156                 0.0  C1590550415      5862200.03     19169204.93        0   \n",
       "171                 0.0  C1590550415      6048647.54     19169204.93        0   \n",
       "...                 ...          ...             ...             ...      ...   \n",
       "6362553             0.0   C175252004     11436080.11     11733926.27        1   \n",
       "6362555             0.0  C2000713595      5524872.71      5631457.03        1   \n",
       "6362569             0.0   C987019949      7203373.74      7397895.02        1   \n",
       "6362575             0.0    C22170584      2930014.23      4685662.04        1   \n",
       "6362619             0.0   C873221189      6510099.11      7360101.63        1   \n",
       "\n",
       "         isFlaggedFraud  \n",
       "94                    0  \n",
       "96                    0  \n",
       "113                   0  \n",
       "156                   0  \n",
       "171                   0  \n",
       "...                 ...  \n",
       "6362553               0  \n",
       "6362555               0  \n",
       "6362569               0  \n",
       "6362575               0  \n",
       "6362619               0  \n",
       "\n",
       "[786135 rows x 11 columns]"
      ]
     },
     "execution_count": 19,
     "metadata": {},
     "output_type": "execute_result"
    }
   ],
   "source": [
    "outliers_dict['oldbalanceDest']"
   ]
  },
  {
   "cell_type": "code",
   "execution_count": 20,
   "id": "91ae0752",
   "metadata": {},
   "outputs": [
    {
     "name": "stdout",
     "output_type": "stream",
     "text": [
      "Percentage of frauds detected in Outliers detected by oldbalanceDest attribute is 5.67\n"
     ]
    }
   ],
   "source": [
    "frauds_by_oldDest = outliers_dict['oldbalanceDest'][outliers_dict['oldbalanceDest']['isFraud'] == 1].count()['isFraud']\n",
    "print(f\"Percentage of frauds detected in Outliers detected by oldbalanceDest attribute is {frauds_by_oldDest/total_frauds*100:.2f}\")"
   ]
  },
  {
   "cell_type": "code",
   "execution_count": 21,
   "id": "5494dc15",
   "metadata": {},
   "outputs": [
    {
     "data": {
      "text/html": [
       "<div>\n",
       "<style scoped>\n",
       "    .dataframe tbody tr th:only-of-type {\n",
       "        vertical-align: middle;\n",
       "    }\n",
       "\n",
       "    .dataframe tbody tr th {\n",
       "        vertical-align: top;\n",
       "    }\n",
       "\n",
       "    .dataframe thead th {\n",
       "        text-align: right;\n",
       "    }\n",
       "</style>\n",
       "<table border=\"1\" class=\"dataframe\">\n",
       "  <thead>\n",
       "    <tr style=\"text-align: right;\">\n",
       "      <th></th>\n",
       "      <th>step</th>\n",
       "      <th>type</th>\n",
       "      <th>amount</th>\n",
       "      <th>nameOrig</th>\n",
       "      <th>oldbalanceOrg</th>\n",
       "      <th>newbalanceOrig</th>\n",
       "      <th>nameDest</th>\n",
       "      <th>oldbalanceDest</th>\n",
       "      <th>newbalanceDest</th>\n",
       "      <th>isFraud</th>\n",
       "      <th>isFlaggedFraud</th>\n",
       "    </tr>\n",
       "  </thead>\n",
       "  <tbody>\n",
       "    <tr>\n",
       "      <th>48</th>\n",
       "      <td>1</td>\n",
       "      <td>CASH_OUT</td>\n",
       "      <td>5346.89</td>\n",
       "      <td>C512549200</td>\n",
       "      <td>0.00</td>\n",
       "      <td>0.0</td>\n",
       "      <td>C248609774</td>\n",
       "      <td>652637.00</td>\n",
       "      <td>6453430.91</td>\n",
       "      <td>0</td>\n",
       "      <td>0</td>\n",
       "    </tr>\n",
       "    <tr>\n",
       "      <th>83</th>\n",
       "      <td>1</td>\n",
       "      <td>TRANSFER</td>\n",
       "      <td>125872.53</td>\n",
       "      <td>C1443967876</td>\n",
       "      <td>0.00</td>\n",
       "      <td>0.0</td>\n",
       "      <td>C392292416</td>\n",
       "      <td>348512.00</td>\n",
       "      <td>3420103.09</td>\n",
       "      <td>0</td>\n",
       "      <td>0</td>\n",
       "    </tr>\n",
       "    <tr>\n",
       "      <th>84</th>\n",
       "      <td>1</td>\n",
       "      <td>TRANSFER</td>\n",
       "      <td>379856.23</td>\n",
       "      <td>C1449772539</td>\n",
       "      <td>0.00</td>\n",
       "      <td>0.0</td>\n",
       "      <td>C1590550415</td>\n",
       "      <td>900180.00</td>\n",
       "      <td>19169204.93</td>\n",
       "      <td>0</td>\n",
       "      <td>0</td>\n",
       "    </tr>\n",
       "    <tr>\n",
       "      <th>85</th>\n",
       "      <td>1</td>\n",
       "      <td>TRANSFER</td>\n",
       "      <td>1505626.01</td>\n",
       "      <td>C926859124</td>\n",
       "      <td>0.00</td>\n",
       "      <td>0.0</td>\n",
       "      <td>C665576141</td>\n",
       "      <td>29031.00</td>\n",
       "      <td>5515763.34</td>\n",
       "      <td>0</td>\n",
       "      <td>0</td>\n",
       "    </tr>\n",
       "    <tr>\n",
       "      <th>88</th>\n",
       "      <td>1</td>\n",
       "      <td>TRANSFER</td>\n",
       "      <td>761507.39</td>\n",
       "      <td>C412788346</td>\n",
       "      <td>0.00</td>\n",
       "      <td>0.0</td>\n",
       "      <td>C1590550415</td>\n",
       "      <td>1280036.23</td>\n",
       "      <td>19169204.93</td>\n",
       "      <td>0</td>\n",
       "      <td>0</td>\n",
       "    </tr>\n",
       "    <tr>\n",
       "      <th>...</th>\n",
       "      <td>...</td>\n",
       "      <td>...</td>\n",
       "      <td>...</td>\n",
       "      <td>...</td>\n",
       "      <td>...</td>\n",
       "      <td>...</td>\n",
       "      <td>...</td>\n",
       "      <td>...</td>\n",
       "      <td>...</td>\n",
       "      <td>...</td>\n",
       "      <td>...</td>\n",
       "    </tr>\n",
       "    <tr>\n",
       "      <th>6362581</th>\n",
       "      <td>741</td>\n",
       "      <td>CASH_OUT</td>\n",
       "      <td>10000000.00</td>\n",
       "      <td>C677394894</td>\n",
       "      <td>10000000.00</td>\n",
       "      <td>0.0</td>\n",
       "      <td>C1866259073</td>\n",
       "      <td>0.00</td>\n",
       "      <td>10000000.00</td>\n",
       "      <td>1</td>\n",
       "      <td>0</td>\n",
       "    </tr>\n",
       "    <tr>\n",
       "      <th>6362583</th>\n",
       "      <td>741</td>\n",
       "      <td>CASH_OUT</td>\n",
       "      <td>10000000.00</td>\n",
       "      <td>C1668034607</td>\n",
       "      <td>10000000.00</td>\n",
       "      <td>0.0</td>\n",
       "      <td>C1250722530</td>\n",
       "      <td>192912.98</td>\n",
       "      <td>10192912.98</td>\n",
       "      <td>1</td>\n",
       "      <td>0</td>\n",
       "    </tr>\n",
       "    <tr>\n",
       "      <th>6362599</th>\n",
       "      <td>742</td>\n",
       "      <td>CASH_OUT</td>\n",
       "      <td>4009058.39</td>\n",
       "      <td>C1970706589</td>\n",
       "      <td>4009058.39</td>\n",
       "      <td>0.0</td>\n",
       "      <td>C637394241</td>\n",
       "      <td>1229761.96</td>\n",
       "      <td>5238820.34</td>\n",
       "      <td>1</td>\n",
       "      <td>0</td>\n",
       "    </tr>\n",
       "    <tr>\n",
       "      <th>6362617</th>\n",
       "      <td>743</td>\n",
       "      <td>CASH_OUT</td>\n",
       "      <td>6311409.28</td>\n",
       "      <td>C1162922333</td>\n",
       "      <td>6311409.28</td>\n",
       "      <td>0.0</td>\n",
       "      <td>C1365125890</td>\n",
       "      <td>68488.84</td>\n",
       "      <td>6379898.11</td>\n",
       "      <td>1</td>\n",
       "      <td>0</td>\n",
       "    </tr>\n",
       "    <tr>\n",
       "      <th>6362619</th>\n",
       "      <td>743</td>\n",
       "      <td>CASH_OUT</td>\n",
       "      <td>850002.52</td>\n",
       "      <td>C1280323807</td>\n",
       "      <td>850002.52</td>\n",
       "      <td>0.0</td>\n",
       "      <td>C873221189</td>\n",
       "      <td>6510099.11</td>\n",
       "      <td>7360101.63</td>\n",
       "      <td>1</td>\n",
       "      <td>0</td>\n",
       "    </tr>\n",
       "  </tbody>\n",
       "</table>\n",
       "<p>738527 rows × 11 columns</p>\n",
       "</div>"
      ],
      "text/plain": [
       "         step      type       amount     nameOrig  oldbalanceOrg  \\\n",
       "48          1  CASH_OUT      5346.89   C512549200           0.00   \n",
       "83          1  TRANSFER    125872.53  C1443967876           0.00   \n",
       "84          1  TRANSFER    379856.23  C1449772539           0.00   \n",
       "85          1  TRANSFER   1505626.01   C926859124           0.00   \n",
       "88          1  TRANSFER    761507.39   C412788346           0.00   \n",
       "...       ...       ...          ...          ...            ...   \n",
       "6362581   741  CASH_OUT  10000000.00   C677394894    10000000.00   \n",
       "6362583   741  CASH_OUT  10000000.00  C1668034607    10000000.00   \n",
       "6362599   742  CASH_OUT   4009058.39  C1970706589     4009058.39   \n",
       "6362617   743  CASH_OUT   6311409.28  C1162922333     6311409.28   \n",
       "6362619   743  CASH_OUT    850002.52  C1280323807      850002.52   \n",
       "\n",
       "         newbalanceOrig     nameDest  oldbalanceDest  newbalanceDest  isFraud  \\\n",
       "48                  0.0   C248609774       652637.00      6453430.91        0   \n",
       "83                  0.0   C392292416       348512.00      3420103.09        0   \n",
       "84                  0.0  C1590550415       900180.00     19169204.93        0   \n",
       "85                  0.0   C665576141        29031.00      5515763.34        0   \n",
       "88                  0.0  C1590550415      1280036.23     19169204.93        0   \n",
       "...                 ...          ...             ...             ...      ...   \n",
       "6362581             0.0  C1866259073            0.00     10000000.00        1   \n",
       "6362583             0.0  C1250722530       192912.98     10192912.98        1   \n",
       "6362599             0.0   C637394241      1229761.96      5238820.34        1   \n",
       "6362617             0.0  C1365125890        68488.84      6379898.11        1   \n",
       "6362619             0.0   C873221189      6510099.11      7360101.63        1   \n",
       "\n",
       "         isFlaggedFraud  \n",
       "48                    0  \n",
       "83                    0  \n",
       "84                    0  \n",
       "85                    0  \n",
       "88                    0  \n",
       "...                 ...  \n",
       "6362581               0  \n",
       "6362583               0  \n",
       "6362599               0  \n",
       "6362617               0  \n",
       "6362619               0  \n",
       "\n",
       "[738527 rows x 11 columns]"
      ]
     },
     "execution_count": 21,
     "metadata": {},
     "output_type": "execute_result"
    }
   ],
   "source": [
    "outliers_dict['newbalanceDest']"
   ]
  },
  {
   "cell_type": "code",
   "execution_count": 22,
   "id": "84eee417",
   "metadata": {},
   "outputs": [
    {
     "name": "stdout",
     "output_type": "stream",
     "text": [
      "Percentage of frauds detected in Outliers detected by newbaalnceDest attribute is 13.38\n"
     ]
    }
   ],
   "source": [
    "frauds_by_newDest = outliers_dict['newbalanceDest'][outliers_dict['newbalanceDest']['isFraud'] == 1].count()['isFraud']\n",
    "print(f\"Percentage of frauds detected in Outliers detected by newbaalnceDest attribute is {frauds_by_newDest/total_frauds*100:.2f}\")"
   ]
  },
  {
   "cell_type": "markdown",
   "id": "16e6185b",
   "metadata": {},
   "source": [
    "As our Assumption,\n",
    "Frauds detected in Outliers from attributes are:\n",
    "1. **amount** - 46.93%\n",
    "2. **oldbalanceOrg** - 60.47%\n",
    "3. **newbalanceOrig** - 1.89%\n",
    "4. **oldbalanceDest** - 5.67%\n",
    "5. **newbalanceDest** - 13.38%\n"
   ]
  },
  {
   "cell_type": "markdown",
   "id": "5f2426b5",
   "metadata": {},
   "source": [
    "### So It's not a good idea to remove them, now we can say that the attributes amount and oldbalanceOrg contributes more towards Fraud Detection."
   ]
  },
  {
   "cell_type": "markdown",
   "id": "6f5a833c",
   "metadata": {},
   "source": [
    "####  For TimeEfficiency, instead of analyzing the whole dataset, we can analyze the outliers detected by attributes( amount and oldbalanceOrg), which we will help us to detect frauds at faster rate."
   ]
  },
  {
   "cell_type": "markdown",
   "id": "f04da6fc",
   "metadata": {},
   "source": [
    "## Data Inconsistency"
   ]
  },
  {
   "cell_type": "markdown",
   "id": "bb7c6e72",
   "metadata": {},
   "source": [
    "By observing the data we can ensure that amount must be greater than oldbalanceOrg and newbalanceOrig must be updated with respect to amount transferred. Doing same for oldbalanceDest and newbalanceDest. We can remove this data."
   ]
  },
  {
   "cell_type": "code",
   "execution_count": 23,
   "id": "786a5963",
   "metadata": {},
   "outputs": [
    {
     "data": {
      "text/plain": [
       "(948623, 11)"
      ]
     },
     "execution_count": 23,
     "metadata": {},
     "output_type": "execute_result"
    }
   ],
   "source": [
    "df = df[(df['amount'] <= df['oldbalanceOrg']) & (df['newbalanceOrig'] == df['oldbalanceOrg'] - df['amount'])]\n",
    "df.shape"
   ]
  },
  {
   "cell_type": "code",
   "execution_count": 25,
   "id": "58c1fbd6",
   "metadata": {},
   "outputs": [
    {
     "data": {
      "text/plain": [
       "type\n",
       "CASH_OUT    4092\n",
       "TRANSFER    3994\n",
       "Name: isFraud, dtype: int64"
      ]
     },
     "execution_count": 25,
     "metadata": {},
     "output_type": "execute_result"
    }
   ],
   "source": [
    "fraud_counts_by_type = df[df['isFraud'] == 1].groupby('type')['isFraud'].count()\n",
    "fraud_counts_by_type"
   ]
  },
  {
   "cell_type": "markdown",
   "id": "dace99b2",
   "metadata": {},
   "source": [
    "All the frauds detected are recorded in these 2 types of transfer, so we can assume that remaining types of transfer are legitimate. So we can drop other types of transfer."
   ]
  },
  {
   "cell_type": "code",
   "execution_count": 26,
   "id": "e50f1c44",
   "metadata": {},
   "outputs": [
    {
     "data": {
      "text/plain": [
       "(174096, 11)"
      ]
     },
     "execution_count": 26,
     "metadata": {},
     "output_type": "execute_result"
    }
   ],
   "source": [
    "df = df[df['type'].isin(['TRANSFER', 'CASH_OUT'])]\n",
    "df.reset_index(drop=True, inplace=True)\n",
    "df.shape"
   ]
  },
  {
   "cell_type": "code",
   "execution_count": 96,
   "id": "6e75519b",
   "metadata": {},
   "outputs": [
    {
     "data": {
      "image/png": "[encoded data removed]",
      "text/plain": [
       "<Figure size 1000x600 with 1 Axes>"
      ]
     },
     "metadata": {},
     "output_type": "display_data"
    }
   ],
   "source": [
    "fraud_df = df[df['isFraud'] == 1]\n",
    "\n",
    "fraud_counts = fraud_df['nameOrig'].value_counts()\n",
    "\n",
    "top_fraudsters = fraud_counts.head(10)\n",
    "\n",
    "plt.figure(figsize=(10, 6))\n",
    "top_fraudsters.plot(kind='bar', color='orange')\n",
    "plt.title('Users with the Most Fraudulent Transactions')\n",
    "plt.xlabel('nameOrig')\n",
    "plt.ylabel('Number of Fraudulent Transactions')\n",
    "plt.xticks(rotation=45)\n",
    "plt.show()"
   ]
  },
  {
   "cell_type": "markdown",
   "id": "c4ae569a",
   "metadata": {},
   "source": [
    "Not even a Single user have repeated the fraud, so highest frauds detected by one user is '1'. There may be reasons such that after involving a fraud, he/she is chamging their accounts."
   ]
  },
  {
   "cell_type": "code",
   "execution_count": 97,
   "id": "d27a866f",
   "metadata": {},
   "outputs": [
    {
     "name": "stdout",
     "output_type": "stream",
     "text": [
      "Average amount for fraudulent transactions: 1379846.707845659\n",
      "Average oldbalanceOrg for fraudulent transactions: 1498825.376795696\n"
     ]
    }
   ],
   "source": [
    "average_fraud_amount = fraud_df['amount'].mean()\n",
    "average_fraud_oldbalanceOrg = fraud_df['oldbalanceOrg'].mean()\n",
    "\n",
    "print(\"Average amount for fraudulent transactions:\", average_fraud_amount)\n",
    "print(\"Average oldbalanceOrg for fraudulent transactions:\", average_fraud_oldbalanceOrg)"
   ]
  },
  {
   "cell_type": "markdown",
   "id": "584ca5cb",
   "metadata": {},
   "source": [
    "By observing this average value, we can decrease the data size and analyze this data. We have considered average value of 2 attributes, because by outliers we have detected shown that these attributes has more significance."
   ]
  },
  {
   "cell_type": "markdown",
   "id": "fb9fd122",
   "metadata": {},
   "source": [
    "### Relationship between Frauds and Amount transferred"
   ]
  },
  {
   "cell_type": "code",
   "execution_count": 169,
   "id": "87b67049",
   "metadata": {},
   "outputs": [
    {
     "data": {
      "image/png": "[encoded data removed]",
      "text/plain": [
       "<Figure size 1000x600 with 1 Axes>"
      ]
     },
     "metadata": {},
     "output_type": "display_data"
    }
   ],
   "source": [
    "plt.figure(figsize=(10, 6))\n",
    "plt.scatter(df['isFraud'],df['amount'], alpha=0.5)\n",
    "plt.title('Frauds vs Amount')\n",
    "plt.xlabel('Fraudulent (1) / Non-Fraudulent (0)')\n",
    "plt.ylabel('Amount')\n",
    "plt.grid(True)\n",
    "plt.show()"
   ]
  },
  {
   "cell_type": "markdown",
   "id": "67e5fb57",
   "metadata": {},
   "source": [
    "### Distribution of Transaction Amounts for Fraudulent Transactions"
   ]
  },
  {
   "cell_type": "code",
   "execution_count": 172,
   "id": "7d296316",
   "metadata": {},
   "outputs": [
    {
     "data": {
      "image/png": "[encoded data removed]",
      "text/plain": [
       "<Figure size 1000x600 with 1 Axes>"
      ]
     },
     "metadata": {},
     "output_type": "display_data"
    }
   ],
   "source": [
    "fraudulent_amounts = df[df['isFraud'] == 1]['amount']\n",
    "\n",
    "plt.figure(figsize=(10, 6))\n",
    "plt.hist(fraudulent_amounts, bins=50, color='orange', alpha=0.5)\n",
    "plt.xlabel('Transaction Amount')\n",
    "plt.ylabel('Frequency')\n",
    "plt.title('Distribution of Transaction Amounts for Fraudulent Transactions')\n",
    "plt.show()"
   ]
  },
  {
   "cell_type": "markdown",
   "id": "7282cd24",
   "metadata": {},
   "source": [
    "### Distribution of Transaction Amounts for Legitimate Transactions"
   ]
  },
  {
   "cell_type": "code",
   "execution_count": 173,
   "id": "b481bdfc",
   "metadata": {},
   "outputs": [
    {
     "data": {
      "image/png": "[encoded data removed]",
      "text/plain": [
       "<Figure size 1000x600 with 1 Axes>"
      ]
     },
     "metadata": {},
     "output_type": "display_data"
    }
   ],
   "source": [
    "legitimate_amounts = df[df['isFraud'] == 0]['amount']\n",
    "\n",
    "plt.figure(figsize=(10, 6))\n",
    "plt.hist(legitimate_amounts, bins=50, color='orange', alpha=0.5)\n",
    "plt.xlabel('Transaction Amount')\n",
    "plt.ylabel('Frequency')\n",
    "plt.title('Distribution of Transaction Amounts for Legitimate Transactions')\n",
    "plt.show()"
   ]
  },
  {
   "cell_type": "markdown",
   "id": "46c134f0",
   "metadata": {},
   "source": [
    "#### The above 2 plots describes that the amount > 2*10^6, are mostly involved in frauds"
   ]
  },
  {
   "cell_type": "code",
   "execution_count": 177,
   "id": "ab46aed2",
   "metadata": {},
   "outputs": [
    {
     "data": {
      "image/png": "[encoded data removed]",
      "text/plain": [
       "<Figure size 1000x600 with 1 Axes>"
      ]
     },
     "metadata": {},
     "output_type": "display_data"
    }
   ],
   "source": [
    "fraudulent_oldOrig = df[df['isFraud'] == 1]['oldbalanceOrg']\n",
    "\n",
    "plt.figure(figsize=(10, 6))\n",
    "plt.hist(fraudulent_oldOrig, bins=50, color='orange', alpha=0.5)\n",
    "plt.xlabel('OldbalanaceOrg')\n",
    "plt.ylabel('Frequency')\n",
    "plt.title('Distribution of oldbalanceOrg for Fraudulent Transactions')\n",
    "plt.show()"
   ]
  },
  {
   "cell_type": "code",
   "execution_count": 176,
   "id": "76c4932d",
   "metadata": {},
   "outputs": [
    {
     "data": {
      "image/png": "[encoded data removed]",
      "text/plain": [
       "<Figure size 1000x600 with 1 Axes>"
      ]
     },
     "metadata": {},
     "output_type": "display_data"
    }
   ],
   "source": [
    "legitimate_oldOrig = df[df['isFraud'] == 0]['oldbalanceOrg']\n",
    "\n",
    "plt.figure(figsize=(10, 6))\n",
    "plt.hist(legitimate_oldOrig, bins=50, color='orange', alpha=0.5)\n",
    "plt.xlabel('oldbalanceOrg')\n",
    "plt.ylabel('Frequency')\n",
    "plt.title('Distribution of oldbalanceOrg for Legitimate Transactions')\n",
    "plt.show()"
   ]
  },
  {
   "cell_type": "markdown",
   "id": "cd5c6692",
   "metadata": {},
   "source": [
    "#### Shows almost similar distribution as amount"
   ]
  },
  {
   "cell_type": "markdown",
   "id": "da21650a",
   "metadata": {},
   "source": [
    "### Frauds vs time"
   ]
  },
  {
   "cell_type": "code",
   "execution_count": 178,
   "id": "7da79e6d",
   "metadata": {},
   "outputs": [],
   "source": [
    "df['step'] = ((df['step'] - 1) % 24) + 1"
   ]
  },
  {
   "cell_type": "code",
   "execution_count": 182,
   "id": "63f55649",
   "metadata": {},
   "outputs": [
    {
     "data": {
      "image/png": "[encoded data removed]",
      "text/plain": [
       "<Figure size 1000x600 with 1 Axes>"
      ]
     },
     "metadata": {},
     "output_type": "display_data"
    }
   ],
   "source": [
    "fraud_zero_counts = df[df['isFraud'] == 1]['step'].value_counts()\n",
    "fraud_zero_counts=fraud_zero_counts.sort_index()\n",
    "\n",
    "plt.figure(figsize=(10, 6))\n",
    "fraud_zero_counts.plot(kind='bar')\n",
    "plt.xlabel('Hours')\n",
    "plt.ylabel('Count')\n",
    "plt.title('Most Fradulent Transactions')\n",
    "plt.show()"
   ]
  },
  {
   "cell_type": "markdown",
   "id": "8ed31305",
   "metadata": {},
   "source": [
    "There is no common pattern in time for Fradulent Transactions."
   ]
  },
  {
   "cell_type": "markdown",
   "id": "1dbc16d9",
   "metadata": {},
   "source": [
    "## Multi collinearity"
   ]
  },
  {
   "cell_type": "code",
   "execution_count": 98,
   "id": "e9835849",
   "metadata": {},
   "outputs": [
    {
     "data": {
      "image/png": "[encoded data removed]",
      "text/plain": [
       "<Figure size 1000x800 with 2 Axes>"
      ]
     },
     "metadata": {},
     "output_type": "display_data"
    }
   ],
   "source": [
    "numeric_df = df.select_dtypes(include=[np.number])\n",
    "\n",
    "correlation_matrix = numeric_df.corr()\n",
    "\n",
    "plt.figure(figsize=(10, 8))\n",
    "sns.heatmap(correlation_matrix, annot=True, cmap='coolwarm', fmt='.2f', linewidths=0.5)\n",
    "plt.title('Correlation Matrix Heatmap')\n",
    "plt.show()\n"
   ]
  },
  {
   "cell_type": "markdown",
   "id": "099107cc",
   "metadata": {},
   "source": [
    "By observing the correlation matrix, we can say that:\n",
    "- **oldbalanceOrg** and **newbalanceOrig** are highly correlated.\n",
    "- **oldbalanceDest** and **newbalanceDest** are highly correlated.\n",
    "\n",
    "But we can't remove them directly, which will leads to loss of information. We use PCA as  remedy for multi collinearity.\n"
   ]
  },
  {
   "cell_type": "markdown",
   "id": "5d1a41e5",
   "metadata": {},
   "source": [
    "## Checking multi-collinearity using Variance Inflation Factor(VIF)"
   ]
  },
  {
   "cell_type": "code",
   "execution_count": 99,
   "id": "fa44a063",
   "metadata": {},
   "outputs": [],
   "source": [
    "from statsmodels.stats.outliers_influence import variance_inflation_factor\n",
    "from statsmodels.tools.tools import add_constant"
   ]
  },
  {
   "cell_type": "code",
   "execution_count": 100,
   "id": "a22524fa",
   "metadata": {},
   "outputs": [
    {
     "name": "stdout",
     "output_type": "stream",
     "text": [
      "          Feature        VIF\n",
      "0          amount        inf\n",
      "1  oldbalanceDest  82.360187\n",
      "2  newbalanceDest  83.966368\n",
      "3   oldbalanceOrg        inf\n",
      "4  newbalanceOrig        inf\n"
     ]
    },
    {
     "name": "stderr",
     "output_type": "stream",
     "text": [
      "C:\\Users\\DELL\\anaconda3\\Lib\\site-packages\\statsmodels\\stats\\outliers_influence.py:198: RuntimeWarning: divide by zero encountered in scalar divide\n",
      "  vif = 1. / (1. - r_squared_i)\n"
     ]
    }
   ],
   "source": [
    "X =df[['amount', 'oldbalanceDest', 'newbalanceDest', 'oldbalanceOrg', 'newbalanceOrig']]\n",
    "\n",
    "vif_data = pd.DataFrame()\n",
    "vif_data[\"Feature\"] = X.columns\n",
    "vif_data[\"VIF\"] = [variance_inflation_factor(X.values, i) for i in range(X.shape[1])]\n",
    "\n",
    "print(vif_data)"
   ]
  },
  {
   "cell_type": "markdown",
   "id": "873e54c0",
   "metadata": {},
   "source": [
    "VIF = inf shows that this attribute can be predicted exactly from one or more attribute."
   ]
  },
  {
   "cell_type": "markdown",
   "id": "b0d15811",
   "metadata": {},
   "source": [
    "### Generally VIF > 10 shows that there is multi-collinearity. So there is Multi-Collinearity, Let's use PCA to avoid this."
   ]
  },
  {
   "cell_type": "markdown",
   "id": "9c0bf76c",
   "metadata": {},
   "source": [
    "## PCA(Principal Component Analysis) - Dimensionality Reduction Technique"
   ]
  },
  {
   "cell_type": "markdown",
   "id": "2e315f86",
   "metadata": {},
   "source": [
    "### One-Hot Encoding"
   ]
  },
  {
   "cell_type": "code",
   "execution_count": 101,
   "id": "54bccdf6",
   "metadata": {},
   "outputs": [
    {
     "data": {
      "text/html": [
       "<div>\n",
       "<style scoped>\n",
       "    .dataframe tbody tr th:only-of-type {\n",
       "        vertical-align: middle;\n",
       "    }\n",
       "\n",
       "    .dataframe tbody tr th {\n",
       "        vertical-align: top;\n",
       "    }\n",
       "\n",
       "    .dataframe thead th {\n",
       "        text-align: right;\n",
       "    }\n",
       "</style>\n",
       "<table border=\"1\" class=\"dataframe\">\n",
       "  <thead>\n",
       "    <tr style=\"text-align: right;\">\n",
       "      <th></th>\n",
       "      <th>step</th>\n",
       "      <th>amount</th>\n",
       "      <th>nameOrig</th>\n",
       "      <th>oldbalanceOrg</th>\n",
       "      <th>newbalanceOrig</th>\n",
       "      <th>nameDest</th>\n",
       "      <th>oldbalanceDest</th>\n",
       "      <th>newbalanceDest</th>\n",
       "      <th>isFraud</th>\n",
       "      <th>isFlaggedFraud</th>\n",
       "      <th>type_CASH_OUT</th>\n",
       "      <th>type_TRANSFER</th>\n",
       "    </tr>\n",
       "  </thead>\n",
       "  <tbody>\n",
       "    <tr>\n",
       "      <th>0</th>\n",
       "      <td>1</td>\n",
       "      <td>181.00</td>\n",
       "      <td>C1305486145</td>\n",
       "      <td>181.0</td>\n",
       "      <td>0.00</td>\n",
       "      <td>C553264065</td>\n",
       "      <td>0.0</td>\n",
       "      <td>0.00</td>\n",
       "      <td>1</td>\n",
       "      <td>0</td>\n",
       "      <td>False</td>\n",
       "      <td>True</td>\n",
       "    </tr>\n",
       "    <tr>\n",
       "      <th>1</th>\n",
       "      <td>1</td>\n",
       "      <td>181.00</td>\n",
       "      <td>C840083671</td>\n",
       "      <td>181.0</td>\n",
       "      <td>0.00</td>\n",
       "      <td>C38997010</td>\n",
       "      <td>21182.0</td>\n",
       "      <td>0.00</td>\n",
       "      <td>1</td>\n",
       "      <td>0</td>\n",
       "      <td>True</td>\n",
       "      <td>False</td>\n",
       "    </tr>\n",
       "    <tr>\n",
       "      <th>2</th>\n",
       "      <td>1</td>\n",
       "      <td>2806.00</td>\n",
       "      <td>C1420196421</td>\n",
       "      <td>2806.0</td>\n",
       "      <td>0.00</td>\n",
       "      <td>C972765878</td>\n",
       "      <td>0.0</td>\n",
       "      <td>0.00</td>\n",
       "      <td>1</td>\n",
       "      <td>0</td>\n",
       "      <td>False</td>\n",
       "      <td>True</td>\n",
       "    </tr>\n",
       "    <tr>\n",
       "      <th>3</th>\n",
       "      <td>1</td>\n",
       "      <td>2806.00</td>\n",
       "      <td>C2101527076</td>\n",
       "      <td>2806.0</td>\n",
       "      <td>0.00</td>\n",
       "      <td>C1007251739</td>\n",
       "      <td>26202.0</td>\n",
       "      <td>0.00</td>\n",
       "      <td>1</td>\n",
       "      <td>0</td>\n",
       "      <td>True</td>\n",
       "      <td>False</td>\n",
       "    </tr>\n",
       "    <tr>\n",
       "      <th>4</th>\n",
       "      <td>1</td>\n",
       "      <td>7206.33</td>\n",
       "      <td>C478139423</td>\n",
       "      <td>24932.0</td>\n",
       "      <td>17725.67</td>\n",
       "      <td>C1032986144</td>\n",
       "      <td>21308.0</td>\n",
       "      <td>18161.79</td>\n",
       "      <td>0</td>\n",
       "      <td>0</td>\n",
       "      <td>False</td>\n",
       "      <td>True</td>\n",
       "    </tr>\n",
       "  </tbody>\n",
       "</table>\n",
       "</div>"
      ],
      "text/plain": [
       "   step   amount     nameOrig  oldbalanceOrg  newbalanceOrig     nameDest  \\\n",
       "0     1   181.00  C1305486145          181.0            0.00   C553264065   \n",
       "1     1   181.00   C840083671          181.0            0.00    C38997010   \n",
       "2     1  2806.00  C1420196421         2806.0            0.00   C972765878   \n",
       "3     1  2806.00  C2101527076         2806.0            0.00  C1007251739   \n",
       "4     1  7206.33   C478139423        24932.0        17725.67  C1032986144   \n",
       "\n",
       "   oldbalanceDest  newbalanceDest  isFraud  isFlaggedFraud  type_CASH_OUT  \\\n",
       "0             0.0            0.00        1               0          False   \n",
       "1         21182.0            0.00        1               0           True   \n",
       "2             0.0            0.00        1               0          False   \n",
       "3         26202.0            0.00        1               0           True   \n",
       "4         21308.0        18161.79        0               0          False   \n",
       "\n",
       "   type_TRANSFER  \n",
       "0           True  \n",
       "1          False  \n",
       "2           True  \n",
       "3          False  \n",
       "4           True  "
      ]
     },
     "execution_count": 101,
     "metadata": {},
     "output_type": "execute_result"
    }
   ],
   "source": [
    "df_encoded = pd.get_dummies(df, columns=['type'], prefix='type')\n",
    "df = df_encoded\n",
    "df.head()"
   ]
  },
  {
   "cell_type": "code",
   "execution_count": 102,
   "id": "5b4a2065",
   "metadata": {},
   "outputs": [],
   "source": [
    "from sklearn.decomposition import PCA\n",
    "from sklearn.preprocessing import StandardScaler"
   ]
  },
  {
   "cell_type": "code",
   "execution_count": 133,
   "id": "6ac68c4e",
   "metadata": {},
   "outputs": [
    {
     "data": {
      "image/png": "[encoded data removed]",
      "text/plain": [
       "<Figure size 1000x600 with 1 Axes>"
      ]
     },
     "metadata": {},
     "output_type": "display_data"
    },
    {
     "name": "stdout",
     "output_type": "stream",
     "text": [
      "Number of components to retain for 99% cumulative variance: 4\n"
     ]
    }
   ],
   "source": [
    "numeric_columns = df[['amount', 'oldbalanceOrg', 'newbalanceOrig', 'oldbalanceDest', 'newbalanceDest', 'type_CASH_OUT', 'type_TRANSFER','isFlaggedFraud']]\n",
    "\n",
    "scaler = StandardScaler()\n",
    "numeric_scaled = scaler.fit_transform(numeric_columns)\n",
    "\n",
    "pca = PCA()\n",
    "pca.fit(numeric_scaled)\n",
    "\n",
    "explained_variance_ratio = pca.explained_variance_ratio_\n",
    "cumulative_explained_variance = np.cumsum(explained_variance_ratio)\n",
    "\n",
    "n_components_99 = np.argmax(cumulative_explained_variance >= 0.99) + 1\n",
    "\n",
    "plt.figure(figsize=(10, 6))\n",
    "plt.plot(range(1, len(explained_variance_ratio) + 1), cumulative_explained_variance, marker='o', linestyle='-', label='Explained Variance')\n",
    "plt.axvline(x=n_components_95, color='r', linestyle='--', label=f'99% Variance at PC {n_components_95}')\n",
    "plt.title('Scree Plot')\n",
    "plt.xlabel('Number of Principal Components')\n",
    "plt.ylabel('Explained Variance')\n",
    "plt.xticks(range(1, len(explained_variance_ratio) + 1))\n",
    "plt.legend()\n",
    "plt.grid(True)\n",
    "plt.show()\n",
    "\n",
    "print(f'Number of components to retain for 99% cumulative variance: {n_components_99}')"
   ]
  },
  {
   "cell_type": "code",
   "execution_count": 134,
   "id": "f1b1575c",
   "metadata": {},
   "outputs": [
    {
     "name": "stdout",
     "output_type": "stream",
     "text": [
      "  feature  VIF\n",
      "0     PC1  1.0\n",
      "1     PC2  1.0\n",
      "2     PC3  1.0\n",
      "3     PC4  1.0\n"
     ]
    }
   ],
   "source": [
    "numeric_pca = pca.fit_transform(numeric_scaled)\n",
    "retained_pca = numeric_pca[:, :n_components_99]\n",
    "df_retained_pca = pd.DataFrame(retained_pca, columns=[f'PC{i+1}' for i in range(n_components_99)])\n",
    "\n",
    "vif_data = pd.DataFrame()\n",
    "vif_data[\"feature\"] = df_retained_pca.columns\n",
    "vif_data[\"VIF\"] = [variance_inflation_factor(df_retained_pca.values, i) for i in range(df_retained_pca.shape[1])]\n",
    "\n",
    "print(vif_data)"
   ]
  },
  {
   "cell_type": "markdown",
   "id": "65994815",
   "metadata": {},
   "source": [
    "Now, No attribute has multi collinearity (since no VIF > 10) after performing PCA"
   ]
  },
  {
   "cell_type": "markdown",
   "id": "ce6e46c9",
   "metadata": {},
   "source": [
    "## Modelling"
   ]
  },
  {
   "cell_type": "markdown",
   "id": "fb85483b",
   "metadata": {},
   "source": [
    "### Linear Regression Model"
   ]
  },
  {
   "cell_type": "code",
   "execution_count": 135,
   "id": "443c3fea",
   "metadata": {},
   "outputs": [],
   "source": [
    "from sklearn.model_selection import train_test_split\n",
    "from sklearn.preprocessing import StandardScaler\n",
    "from sklearn.linear_model import LinearRegression\n",
    "from sklearn.metrics import mean_squared_error, r2_score, accuracy_score"
   ]
  },
  {
   "cell_type": "code",
   "execution_count": 136,
   "id": "6dcda31a",
   "metadata": {},
   "outputs": [
    {
     "name": "stdout",
     "output_type": "stream",
     "text": [
      "Regression Coefficients: [ 5.78051210e-02 -1.08555308e-02 -1.08731958e-02 -8.16805289e-02\n",
      " -9.47134321e-02  6.24818508e+12  5.64654559e+09  0.00000000e+00]\n",
      "Regression Intercept: 0.04642619298467142\n",
      "Mean Squared Error: 0.03050510207219083\n",
      "R-squared: 0.3112175357581901\n"
     ]
    }
   ],
   "source": [
    "numeric_pca = pca.fit_transform(numeric_scaled)\n",
    "\n",
    "target = df['isFraud']\n",
    "\n",
    "regressor = LinearRegression()\n",
    "regressor.fit(numeric_pca, target)\n",
    "\n",
    "print(f'Regression Coefficients: {regressor.coef_}')\n",
    "print(f'Regression Intercept: {regressor.intercept_}')\n",
    "\n",
    "from sklearn.metrics import mean_squared_error, r2_score\n",
    "\n",
    "predictions = regressor.predict(numeric_pca)\n",
    "mse = mean_squared_error(target, predictions)\n",
    "r2 = r2_score(target, predictions)\n",
    "\n",
    "print(f'Mean Squared Error: {mse}')\n",
    "print(f'R-squared: {r2}')"
   ]
  },
  {
   "cell_type": "code",
   "execution_count": 137,
   "id": "42a30d95",
   "metadata": {},
   "outputs": [
    {
     "name": "stdout",
     "output_type": "stream",
     "text": [
      "Accuracy: 0.955255600229753\n"
     ]
    }
   ],
   "source": [
    "numeric_columns = df.select_dtypes(include=['float64', 'int64']) \n",
    "X = numeric_columns.drop(columns=['isFraud','isFlaggedFraud'])  \n",
    "y = df['isFraud']  \n",
    "\n",
    "X_train, X_test, y_train, y_test = train_test_split(X, y, test_size=0.2, random_state=42)\n",
    "\n",
    "regressor = LinearRegression()\n",
    "regressor.fit(X_train, y_train)\n",
    "\n",
    "y_pred = regressor.predict(X_test)\n",
    "\n",
    "y_pred_binary = [1 if pred > 0.99 else 0 for pred in y_pred]\n",
    "\n",
    "accuracy = accuracy_score(y_test, y_pred_binary)\n",
    "\n",
    "print(f'Accuracy: {accuracy}')"
   ]
  },
  {
   "cell_type": "markdown",
   "id": "e4e50a79",
   "metadata": {},
   "source": [
    "### Logistic Regression"
   ]
  },
  {
   "cell_type": "code",
   "execution_count": 139,
   "id": "189a1003",
   "metadata": {},
   "outputs": [],
   "source": [
    "from sklearn.linear_model import LogisticRegression\n",
    "from sklearn.metrics import accuracy_score, classification_report, confusion_matrix"
   ]
  },
  {
   "cell_type": "code",
   "execution_count": 144,
   "id": "8be77f31",
   "metadata": {},
   "outputs": [
    {
     "name": "stdout",
     "output_type": "stream",
     "text": [
      "Accuracy: 0.9785468121769099\n"
     ]
    }
   ],
   "source": [
    "model = LogisticRegression(max_iter=1000)  \n",
    "model.fit(X_train, y_train)\n",
    "\n",
    "y_pred = model.predict(X_test)\n",
    "\n",
    "accuracy = accuracy_score(y_test, y_pred)\n",
    "conf_matrix = confusion_matrix(y_test, y_pred)\n",
    "class_report = classification_report(y_test, y_pred)\n",
    "\n",
    "print(f'Accuracy: {accuracy}')"
   ]
  },
  {
   "cell_type": "markdown",
   "id": "589d66e9",
   "metadata": {},
   "source": [
    "## Regularization to avoid Over-fitting"
   ]
  },
  {
   "cell_type": "code",
   "execution_count": 150,
   "id": "8e68460f",
   "metadata": {},
   "outputs": [
    {
     "name": "stdout",
     "output_type": "stream",
     "text": [
      "Accuracy with regularization: [0.9785468121769099, 0.9785468121769099, 0.9785468121769099, 0.9785468121769099, 0.9785468121769099, 0.9785468121769099]\n",
      "Optimal regularization strength (C): 0.001\n"
     ]
    }
   ],
   "source": [
    "strengths = [0.001, 0.01, 0.1, 1, 10, 100] \n",
    "\n",
    "results_with_reg = []\n",
    "\n",
    "for C in strengths:\n",
    "    model_with_reg = LogisticRegression(C=C, max_iter=1000)\n",
    "    model_with_reg.fit(X_train, y_train)\n",
    "    y_pred_with_reg = model_with_reg.predict(X_test)\n",
    "    acc_with_reg = accuracy_score(y_test, y_pred_with_reg)\n",
    "    results_with_reg.append(acc_with_reg)\n",
    "\n",
    "optimal_C = strengths[results_with_reg.index(max(results_with_reg))]\n",
    "\n",
    "print(f'Accuracy with regularization: {results_with_reg}')\n",
    "print(f'Optimal regularization strength (C): {optimal_C}')"
   ]
  },
  {
   "cell_type": "markdown",
   "id": "27fc9ba6",
   "metadata": {},
   "source": [
    "#### Accuracy is constant for all regularisation parameters shows that there is no over fitting of the model"
   ]
  },
  {
   "cell_type": "code",
   "execution_count": 163,
   "id": "5f8bcad4",
   "metadata": {},
   "outputs": [
    {
     "data": {
      "image/png": "[encoded data removed]",
      "text/plain": [
       "<Figure size 640x480 with 2 Axes>"
      ]
     },
     "metadata": {},
     "output_type": "display_data"
    }
   ],
   "source": [
    "plt.imshow(conf_matrix, interpolation='nearest', cmap='coolwarm')\n",
    "plt.title('Confusion Matrix')\n",
    "plt.colorbar()\n",
    "tick_marks = np.arange(2)\n",
    "plt.xticks(tick_marks, ['Not Fraud', 'Fraud'])\n",
    "plt.yticks(tick_marks, ['Not Fraud', 'Fraud'])\n",
    "plt.xlabel('Predicted')\n",
    "plt.ylabel('Actual')\n",
    "\n",
    "thresh = cm.max() / 2.\n",
    "for i in range(cm.shape[0]):\n",
    "    for j in range(cm.shape[1]):\n",
    "        plt.text(j, i, format(cm[i, j], 'd'),\n",
    "                 horizontalalignment=\"center\",\n",
    "                 color=\"white\" if cm[i, j] > thresh else \"black\")\n",
    "\n",
    "plt.show()"
   ]
  },
  {
   "cell_type": "code",
   "execution_count": 165,
   "id": "9eabe215",
   "metadata": {},
   "outputs": [
    {
     "name": "stdout",
     "output_type": "stream",
     "text": [
      "Classification Report :\n",
      "              precision    recall  f1-score   support\n",
      "\n",
      "           0       0.98      1.00      0.99     33125\n",
      "           1       0.94      0.60      0.73      1695\n",
      "\n",
      "    accuracy                           0.98     34820\n",
      "   macro avg       0.96      0.80      0.86     34820\n",
      "weighted avg       0.98      0.98      0.98     34820\n",
      "\n"
     ]
    }
   ],
   "source": [
    "print(\"Classification Report :\")\n",
    "print(class_report)"
   ]
  },
  {
   "cell_type": "markdown",
   "id": "3190d031",
   "metadata": {},
   "source": [
    "Since the dataset is biased, it's better to look at f1-score instead of accuracy."
   ]
  },
  {
   "cell_type": "markdown",
   "id": "89539e75",
   "metadata": {},
   "source": [
    "#### To avoid this, we can downsample or oversample of dataset, downsample can tends to loss in indormation, Oversampling can be done towards class with less instances. (We can generate synthetic data using SMOTE)"
   ]
  },
  {
   "cell_type": "markdown",
   "id": "0efcabbf",
   "metadata": {},
   "source": [
    "####  Data cleaning including missing values, outliers and multi-collinearity"
   ]
  },
  {
   "cell_type": "markdown",
   "id": "21f34fd3",
   "metadata": {},
   "source": [
    "There are no missing values. If present, we can replace them with appropriate statistics and mostly avoid dropping those rows.\n",
    "\n",
    "We can detect outliers using boxplot, IQR (Interquartile Range), or z-score. We can remove outliers, but in this case, we shouldn't because most of the frauds detected are found in these outliers. Therefore, it's not a good idea to remove outliers in such a case.\n",
    "\n",
    "Multi-collinearity is detected using Correlation and VIF (Variance Inflation Factor) and can be eliminated using PCA (Principal Component Analysis).\n"
   ]
  },
  {
   "cell_type": "markdown",
   "id": "d64d783a",
   "metadata": {},
   "source": [
    "#### Describe your fraud detection model in elaboration."
   ]
  },
  {
   "cell_type": "markdown",
   "id": "fa2ef979",
   "metadata": {},
   "source": [
    "After proper data cleaning:\n",
    "- Relevant attributes are selected using outliers and PCA.\n",
    "- Data is fed to the ML model (i.e., Linear and Logistic Regression)."
   ]
  },
  {
   "cell_type": "markdown",
   "id": "c9628d3a",
   "metadata": {},
   "source": [
    "####  How did you select variables to be included in the model? "
   ]
  },
  {
   "cell_type": "markdown",
   "id": "62f42c22",
   "metadata": {},
   "source": [
    "We have selected variables using outliers and retained PCA components which explain variance greater than 99%."
   ]
  },
  {
   "cell_type": "markdown",
   "id": "d733447c",
   "metadata": {},
   "source": [
    "####  Demonstrate the performance of the model by using best set of tools."
   ]
  },
  {
   "cell_type": "markdown",
   "id": "84ada57b",
   "metadata": {},
   "source": [
    "\n",
    "- For **Linear Regression**, we achieved an accuracy of **95.52%**.\n",
    "- For **Logistic Regression**, we achieved an accuracy of **97.85%** (ensuring the model is not overfitting).\n"
   ]
  },
  {
   "cell_type": "markdown",
   "id": "ab0e24e2",
   "metadata": {},
   "source": [
    "####  What are the key factors that predict fraudulent customer?"
   ]
  },
  {
   "cell_type": "markdown",
   "id": "dc65c6f8",
   "metadata": {},
   "source": [
    "**Key Factors:**\n",
    "- Amount\n",
    "- oldBalanceOrg\n"
   ]
  },
  {
   "cell_type": "markdown",
   "id": "c9affbf0",
   "metadata": {},
   "source": [
    "####  Do these factors make sense? If yes, How? If not, How not? "
   ]
  },
  {
   "cell_type": "markdown",
   "id": "e47be8de",
   "metadata": {},
   "source": [
    "Yes, these factors were detected using outliers and verified by comparing the coefficients of the Linear Regression model, which proved that these factors contribute more to fraud detection.\n"
   ]
  },
  {
   "cell_type": "markdown",
   "id": "6eb93f1f",
   "metadata": {},
   "source": [
    "####  What kind of prevention should be adopted while company update its infrastructure? "
   ]
  },
  {
   "cell_type": "markdown",
   "id": "fddefc68",
   "metadata": {},
   "source": [
    "Detecting frauds is not enough; we have to prevent frauds.\n",
    "- **Detection** can be done using the 'amount' attribute.\n",
    "- **Prevention** can be done by analyzing 'oldBalanceOrg' before the transaction is made.\n",
    "- Keep an eye on the customer, whose old balance is more than the threshold set by analyst.\n",
    "- It's better to cluster the customers based on their balance."
   ]
  },
  {
   "cell_type": "markdown",
   "id": "84ab7fb4",
   "metadata": {},
   "source": [
    "#### Assuming these actions have been implemented, how would you determine if they work?"
   ]
  },
  {
   "cell_type": "markdown",
   "id": "62bd06b9",
   "metadata": {},
   "source": [
    "To calculate the accuracy of how many frauds have been pre-detected before they happened from the cluster of frauds detected by the analyst, we can use the following formula:\n",
    "\n",
    "Accuracy = (Number of pre-detected frauds / Total number of detected frauds) * 100\n",
    "\n",
    "Higher accuracy shows that our assumption was correct for a customer.\n"
   ]
  },
  {
   "cell_type": "code",
   "execution_count": null,
   "id": "81f30e18",
   "metadata": {},
   "outputs": [],
   "source": []
  }
 ],
 "metadata": {
  "kernelspec": {
   "display_name": "Python 3 (ipykernel)",
   "language": "python",
   "name": "python3"
  },
  "language_info": {
   "codemirror_mode": {
    "name": "ipython",
    "version": 3
   },
   "file_extension": ".py",
   "mimetype": "text/x-python",
   "name": "python",
   "nbconvert_exporter": "python",
   "pygments_lexer": "ipython3",
   "version": "3.11.5"
  }
 },
 "nbformat": 4,
 "nbformat_minor": 5
}
